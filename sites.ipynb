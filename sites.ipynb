{
 "cells": [
  {
   "cell_type": "markdown",
   "source": "# Meli Data Science Challenge\n## Andrés Zamora",
   "metadata": {
    "cell_id": "f1b2512084c742ffa1eb329d438707c9",
    "tags": [],
    "deepnote_app_coordinates": {
     "x": 0,
     "y": 0,
     "w": 12,
     "h": 5
    },
    "deepnote_cell_type": "markdown",
    "deepnote_cell_height": 138
   }
  },
  {
   "cell_type": "markdown",
   "source": "### Caso de negocio\nDentro del marketplace existen productos similares o idénticos entre sí (son\nproductos vendidos por distintos sellers, en la api puedes obtener y descargar los\ntítulos e incluso las imágenes!). ¿Cómo buscar dichos ítems para agruparlos y\nvolverlos comparables entre sí? Esto permitiría mejorar la experiencia ante muchas\nopciones similares.",
   "metadata": {
    "cell_id": "fc14efe76322450ab2ba5b0020e95763",
    "tags": [],
    "deepnote_app_coordinates": {
     "x": 0,
     "y": 147,
     "w": 12,
     "h": 12
    },
    "deepnote_cell_type": "markdown",
    "deepnote_cell_height": 122.80000305175781
   }
  },
  {
   "cell_type": "markdown",
   "source": "### Planteamiento inicial\n- **Objetivo**: Sistema que pueda encontrar productos iguales entre sí a través de variables disponibles en el [API](https://developers.mercadolibre.com.ar/en_us/api-docs) de [items](https://api.mercadolibre.com/items/#options) de MercadoLibre.\n- **Información útil disponible**:\n    - Título (texto): Nombre del producto.\n    - Thumbnail (imagen): Imagen del producto.\n    - Dominio / Categoría (texto)\n    - [Atributos](https://developers.mercadolibre.com.ar/es_co/atributos):\n        - Marca (texto)\n        - Tags (texto)\n        - Modelo (texto)\n        - Código de barras (texto)\n- **Propuesta**: Utilizar procesamiento de texto e imágenes para determinar, a partir de las variables presentadas anteriormente, la similaridad de un producto con otros productos de la misma categoría. Luego, escoger un umbral de similaridad para determinar si dos o más productos son iguales, y obtener el listado de estos.",
   "metadata": {
    "cell_id": "d50267128b7744179f897a1f8fdc2c4c",
    "tags": [],
    "deepnote_app_coordinates": {
     "x": 0,
     "y": 0,
     "w": 12,
     "h": 5
    },
    "deepnote_cell_type": "markdown",
    "deepnote_cell_height": 407.29998779296875
   }
  },
  {
   "cell_type": "code",
   "metadata": {
    "cell_id": "92813b53-164b-41d3-aa23-7dc311026f5e",
    "deepnote_to_be_reexecuted": false,
    "source_hash": "f8a825d",
    "execution_start": 1648100749840,
    "execution_millis": 12541,
    "deepnote_app_is_code_hidden": false,
    "is_code_hidden": false,
    "deepnote_cell_type": "code",
    "deepnote_cell_height": 577.4000244140625
   },
   "source": "import unicodedata\nimport warnings\nfrom dataclasses import dataclass\nfrom functools import lru_cache\nfrom typing import Protocol, Type\n\nimport pandas as pd\nimport matplotlib.pyplot as plt\nimport requests\nimport spacy\nimport seaborn as sns\nfrom sklearn.feature_extraction.text import CountVectorizer, TfidfVectorizer\nfrom sklearn.metrics.pairwise import cosine_similarity\n\nwarnings.filterwarnings(\"ignore\")\npd.options.display.max_columns = 100\n\nfigsize=(8,5)\ndpi=100\n\nplt.rc('axes')\nplt.rc('figure')\nplt.rc('figure', figsize=figsize, dpi=dpi)\nsns.set_context('notebook')\nsns.set_palette(\"pastel\")",
   "execution_count": 1,
   "outputs": [
    {
     "name": "stderr",
     "text": "/shared-libs/python3.9/py/lib/python3.9/site-packages/tqdm/auto.py:22: TqdmWarning: IProgress not found. Please update jupyter and ipywidgets. See https://ipywidgets.readthedocs.io/en/stable/user_install.html\n  from .autonotebook import tqdm as notebook_tqdm\n",
     "output_type": "stream"
    }
   ]
  },
  {
   "cell_type": "markdown",
   "source": "### Análisis Exploratorio",
   "metadata": {
    "cell_id": "5d26c4dd67564ce0b602d34a341d8f20",
    "tags": [],
    "deepnote_app_coordinates": {
     "x": 0,
     "y": 0,
     "w": 12,
     "h": 5
    },
    "deepnote_cell_type": "markdown",
    "deepnote_cell_height": 62
   }
  },
  {
   "cell_type": "markdown",
   "source": "Escogemos trabajar con el catálogo de Colombia 🇨🇴",
   "metadata": {
    "cell_id": "749e9b03678e41e3ad1454f5653c2ee5",
    "tags": [],
    "is_collapsed": false,
    "deepnote_app_coordinates": {
     "x": 0,
     "y": 0,
     "w": 8,
     "h": 2
    },
    "deepnote_cell_type": "text-cell-p"
   }
  },
  {
   "cell_type": "code",
   "metadata": {
    "cell_id": "00001-551271f2-6df0-4c63-b2d7-3a6b7b72cc05",
    "deepnote_to_be_reexecuted": false,
    "source_hash": "10c5f4f2",
    "execution_start": 1648100762387,
    "execution_millis": 32,
    "deepnote_app_coordinates": {
     "x": 0,
     "y": 6,
     "w": 12,
     "h": 5
    },
    "is_code_hidden": true,
    "deepnote_app_is_code_hidden": true,
    "deepnote_cell_type": "code",
    "deepnote_cell_height": 111.80000305175781,
    "deepnote_output_heights": [
     21
    ]
   },
   "source": "@dataclass\nclass MeLiClient:\n    site: str\n\n    def get_categories(self) -> pd.DataFrame:\n        url = f\"https://api.mercadolibre.com/sites/{self.site}/categories\"\n        return pd.DataFrame(requests.get(url).json())\n\n    def get_items_in_category(self, category_id: str, offset=0) -> pd.DataFrame:\n\n        url = f\"https://api.mercadolibre.com/sites/{self.site}/search?category={category_id}&offset={offset}\"\n        request = requests.get(url)\n        items = request.json()\n        try:\n            return pd.DataFrame(items[\"results\"])\n        except Exception:\n            return pd.DataFrame()\n\n    def get_all_items_in_category(self, category_id: str) -> pd.DataFrame:\n\n        offset = 0\n        results = []\n\n        result = self.get_items_in_category(category_id)\n        results.append(result)\n\n        while len(result) > 0:\n            offset += 50\n\n            result = self.get_items_in_category(category_id, offset=offset)\n            results.append(result)\n\n        return pd.concat(results)\n\n\nsite = \"MCO\"\nmeli = MeLiClient(site)\nmeli\n",
   "execution_count": 2,
   "outputs": [
    {
     "output_type": "execute_result",
     "execution_count": 2,
     "data": {
      "text/plain": "MeLiClient(site='MCO')"
     },
     "metadata": {}
    }
   ]
  },
  {
   "cell_type": "markdown",
   "source": "Para acotar el alcance del reto, asumimos que dos productos iguales pertenecen a la misma categoría. Escogemos la categoría *Electrónica, Audio y Video* para trabajar durante este reto.",
   "metadata": {
    "cell_id": "a009e82cbae645118e868d4b4b2e479c",
    "tags": [],
    "deepnote_app_coordinates": {
     "x": 0,
     "y": 0,
     "w": 12,
     "h": 5
    },
    "deepnote_cell_type": "markdown",
    "deepnote_cell_height": 52.399993896484375
   }
  },
  {
   "cell_type": "code",
   "metadata": {
    "cell_id": "00002-5f04f81e-af15-4b7c-9f29-6c96629905f4",
    "deepnote_to_be_reexecuted": false,
    "source_hash": "65039093",
    "execution_start": 1648100762423,
    "execution_millis": 112,
    "deepnote_app_coordinates": {
     "x": 0,
     "y": 12,
     "w": 12,
     "h": 5
    },
    "is_code_hidden": true,
    "deepnote_app_is_code_hidden": true,
    "deepnote_cell_type": "code",
    "deepnote_cell_height": 222.8000030517578,
    "deepnote_output_heights": [
     61
    ]
   },
   "source": "categories = meli.get_categories()\ncategories.query(\"id=='MCO1000'\")\n",
   "execution_count": 3,
   "outputs": [
    {
     "output_type": "execute_result",
     "execution_count": 3,
     "data": {
      "application/vnd.deepnote.dataframe.v3+json": {
       "column_count": 2,
       "row_count": 1,
       "columns": [
        {
         "name": "id",
         "dtype": "object",
         "stats": {
          "unique_count": 1,
          "nan_count": 0,
          "categories": [
           {
            "name": "MCO1000",
            "count": 1
           }
          ]
         }
        },
        {
         "name": "name",
         "dtype": "object",
         "stats": {
          "unique_count": 1,
          "nan_count": 0,
          "categories": [
           {
            "name": "Electrónica, Audio y Video",
            "count": 1
           }
          ]
         }
        },
        {
         "name": "_deepnote_index_column",
         "dtype": "int64"
        }
       ],
       "rows": [
        {
         "id": "MCO1000",
         "name": "Electrónica, Audio y Video",
         "_deepnote_index_column": 17
        }
       ]
      },
      "text/plain": "         id                        name\n17  MCO1000  Electrónica, Audio y Video",
      "text/html": "<div>\n<style scoped>\n    .dataframe tbody tr th:only-of-type {\n        vertical-align: middle;\n    }\n\n    .dataframe tbody tr th {\n        vertical-align: top;\n    }\n\n    .dataframe thead th {\n        text-align: right;\n    }\n</style>\n<table border=\"1\" class=\"dataframe\">\n  <thead>\n    <tr style=\"text-align: right;\">\n      <th></th>\n      <th>id</th>\n      <th>name</th>\n    </tr>\n  </thead>\n  <tbody>\n    <tr>\n      <th>17</th>\n      <td>MCO1000</td>\n      <td>Electrónica, Audio y Video</td>\n    </tr>\n  </tbody>\n</table>\n</div>"
     },
     "metadata": {}
    }
   ]
  },
  {
   "cell_type": "code",
   "metadata": {
    "cell_id": "00003-ed88a64b-299c-409e-af31-c2115cbe00eb",
    "deepnote_to_be_reexecuted": false,
    "source_hash": "6a912d6c",
    "execution_start": 1648100762538,
    "execution_millis": 9,
    "is_code_hidden": true,
    "deepnote_cell_type": "code",
    "deepnote_cell_height": 74.80000305175781
   },
   "source": "# https://developers.mercadolibre.com.ar/es_co/atributos\n# http://www.heikopaulheim.com/docs/swj2018_product_data.pdf\n\n# items[items[\"attributes\"].apply(lambda sku: 'DESCRIPTIVE_TAGS' in (x[\"id\"] for x in sku))] # empty\n# items[items[\"attributes\"].apply(lambda sku: 'PRODUCT_FEATURES' in (x[\"id\"] for x in sku))] # empty\n",
   "execution_count": 4,
   "outputs": []
  },
  {
   "cell_type": "markdown",
   "source": "Cargamos el listado de productos pertenecientes a esta categoría.",
   "metadata": {
    "cell_id": "d6abd59d7f7b487d892f4f8dfce382f3",
    "tags": [],
    "deepnote_app_coordinates": {
     "x": 0,
     "y": 0,
     "w": 12,
     "h": 5
    },
    "deepnote_cell_type": "markdown",
    "deepnote_cell_height": 52.399993896484375
   }
  },
  {
   "cell_type": "code",
   "metadata": {
    "cell_id": "00004-b28c5799-e432-4a12-ab76-54567349b971",
    "deepnote_to_be_reexecuted": false,
    "source_hash": "c1d3d861",
    "execution_start": 1648100762553,
    "execution_millis": 27468,
    "deepnote_app_coordinates": {
     "x": 0,
     "y": 24,
     "w": 12,
     "h": 5
    },
    "is_code_hidden": true,
    "deepnote_table_state": {
     "pageSize": 10,
     "pageIndex": 4,
     "filters": [],
     "sortBy": []
    },
    "deepnote_table_loading": false,
    "deepnote_app_is_code_hidden": true,
    "deepnote_cell_type": "code",
    "deepnote_cell_height": 591.7999877929688,
    "deepnote_output_heights": [
     null,
     397
    ]
   },
   "source": "def get_attribute_value(attributes: list, attribute_name: str):\n    return next(\n        (x[\"value_name\"] for x in attributes if x[\"id\"] == attribute_name),\n        None,\n    )\n\n\ndef build_dataset(\n    meli: MeLiClient,\n    category_id: str,\n    features: list[str],\n    attributes: list[str],\n    save=True,\n):\n\n    items = meli.get_all_items_in_category(category_id)\n    df = items[features]\n\n    for attribute in attributes:\n        df[attribute.lower()] = items.attributes.apply(\n            get_attribute_value, attribute_name=attribute\n        )\n\n    df = df.drop(columns=\"attributes\").dropna(how=\"all\", axis=1).reset_index(drop=True)\n\n    if save:\n        df.to_csv(f\"{category_id}_items.csv\")\n\n    return df\n\n\nFEATURES = [\"id\", \"title\", \"thumbnail\", \"domain_id\", \"attributes\"]\nINTERESTING_ATTRIBUTES = [\"GTIN\", \"BRAND\", \"MODEL\"]\ncategory = \"MCO1000\"  # categories.id.sample().squeeze()\n\ndf = build_dataset(meli, category, FEATURES, INTERESTING_ATTRIBUTES)\ndf\n",
   "execution_count": 5,
   "outputs": [
    {
     "output_type": "execute_result",
     "execution_count": 5,
     "data": {
      "application/vnd.deepnote.dataframe.v3+json": {
       "column_count": 6,
       "row_count": 1050,
       "columns": [
        {
         "name": "id",
         "dtype": "object",
         "stats": {
          "unique_count": 1050,
          "nan_count": 0,
          "categories": [
           {
            "name": "MCO618049088",
            "count": 1
           },
           {
            "name": "MCO627599757",
            "count": 1
           },
           {
            "name": "1048 others",
            "count": 1048
           }
          ]
         }
        },
        {
         "name": "title",
         "dtype": "object",
         "stats": {
          "unique_count": 1017,
          "nan_count": 0,
          "categories": [
           {
            "name": "Soporte Base Pared Tv Lcd Led Base 14 Hasta 55 '' 50kg Full",
            "count": 3
           },
           {
            "name": "Soporte Brazo Monitor Para 2 Pantallas Lcd Led Escritorio",
            "count": 3
           },
           {
            "name": "1015 others",
            "count": 1044
           }
          ]
         }
        },
        {
         "name": "thumbnail",
         "dtype": "object",
         "stats": {
          "unique_count": 1047,
          "nan_count": 0,
          "categories": [
           {
            "name": "http://http2.mlstatic.com/D_895108-MCO41065872997_032020-I.jpg",
            "count": 2
           },
           {
            "name": "http://http2.mlstatic.com/D_680392-MCO47556889064_092021-I.jpg",
            "count": 2
           },
           {
            "name": "1045 others",
            "count": 1046
           }
          ]
         }
        },
        {
         "name": "domain_id",
         "dtype": "object",
         "stats": {
          "unique_count": 60,
          "nan_count": 0,
          "categories": [
           {
            "name": "MCO-HEADPHONES",
            "count": 170
           },
           {
            "name": "MCO-AUDIO_AND_VIDEO_CABLES_AND_ADAPTERS",
            "count": 114
           },
           {
            "name": "58 others",
            "count": 766
           }
          ]
         }
        },
        {
         "name": "brand",
         "dtype": "object",
         "stats": {
          "unique_count": 351,
          "nan_count": 67,
          "categories": [
           {
            "name": "JBL",
            "count": 50
           },
           {
            "name": "350 others",
            "count": 933
           },
           {
            "name": "Missing",
            "count": 67
           }
          ]
         }
        },
        {
         "name": "model",
         "dtype": "object",
         "stats": {
          "unique_count": 710,
          "nan_count": 114,
          "categories": [
           {
            "name": "EL DESCRITO EN LA PUBLICACION",
            "count": 12
           },
           {
            "name": "709 others",
            "count": 924
           },
           {
            "name": "Missing",
            "count": 114
           }
          ]
         }
        },
        {
         "name": "_deepnote_index_column",
         "dtype": "int64"
        }
       ],
       "rows": [
        {
         "id": "MCO851975566",
         "title": "Soporte North Bayou Nb-p6 De Pared Para Tv/monitor De 40  A 70  Negro",
         "thumbnail": "http://http2.mlstatic.com/D_696667-MLA46523605904_062021-I.jpg",
         "domain_id": "MCO-TV_AND_MONITOR_MOUNTS",
         "brand": "North Bayou",
         "model": "NB-P6",
         "_deepnote_index_column": 40
        },
        {
         "id": "MCO584762992",
         "title": "Adaptador Convertidor Cable Hdmi A Vga 1080p Bogotá ",
         "thumbnail": "http://http2.mlstatic.com/D_629919-MCO49437659669_032022-I.jpg",
         "domain_id": "MCO-AUDIO_AND_VIDEO_CABLES_AND_ADAPTERS",
         "brand": "SISDATA",
         "model": "HDMI-VGA",
         "_deepnote_index_column": 41
        },
        {
         "id": "MCO853308878",
         "title": "Amazon Echo Dot 3rd Gen Con Asistente Virtual Alexa Charcoal 110v/240v",
         "thumbnail": "http://http2.mlstatic.com/D_972468-MLA45993720608_052021-I.jpg",
         "domain_id": "MCO-SMART_SPEAKERS",
         "brand": "Amazon",
         "model": "Echo Dot 3rd Gen",
         "_deepnote_index_column": 42
        },
        {
         "id": "MCO627595404",
         "title": "Drone Ryze Dji Tello Con Cámara Hd Blanco 1 Batería",
         "thumbnail": "http://http2.mlstatic.com/D_941228-MLA47979353569_102021-I.jpg",
         "domain_id": "MCO-DRONES",
         "brand": "DJI",
         "model": "Tello",
         "_deepnote_index_column": 43
        },
        {
         "id": "MCO841971532",
         "title": "Soporte Nia P5 De Pared Para Tv/monitor De 32  A 65  Negro",
         "thumbnail": "http://http2.mlstatic.com/D_742719-MLA48231997131_112021-I.jpg",
         "domain_id": "MCO-TV_AND_MONITOR_MOUNTS",
         "brand": "NIA",
         "model": "P5",
         "_deepnote_index_column": 44
        },
        {
         "id": "MCO845624218",
         "title": "Smart Tv Samsung Series 4 Un32t4300akxzl Led Hd 32  100v/240v",
         "thumbnail": "http://http2.mlstatic.com/D_695235-MLA44405482025_122020-I.jpg",
         "domain_id": "MCO-TELEVISIONS",
         "brand": "Samsung",
         "model": "UN32T4300A",
         "_deepnote_index_column": 45
        },
        {
         "id": "MCO658984181",
         "title": "Audífonos In-ear Sony Ex Series Mdr-ex15ap Negro",
         "thumbnail": "http://http2.mlstatic.com/D_775901-MLA45269540049_032021-I.jpg",
         "domain_id": "MCO-HEADPHONES",
         "brand": "Sony",
         "model": "MDR-EX15AP",
         "_deepnote_index_column": 46
        },
        {
         "id": "MCO649580717",
         "title": "Micrófono Trust Primo 21674 Condensador Omnidireccional Negro",
         "thumbnail": "http://http2.mlstatic.com/D_743222-MLA46166063789_052021-I.jpg",
         "domain_id": "MCO-MICROPHONES",
         "brand": "Trust",
         "model": "21674",
         "_deepnote_index_column": 47
        },
        {
         "id": "MCO857097056",
         "title": "Audífono Inalámbrico Jbl Tune 510bt Azul",
         "thumbnail": "http://http2.mlstatic.com/D_856787-MLA46540771079_062021-I.jpg",
         "domain_id": "MCO-HEADPHONES",
         "brand": "JBL",
         "model": "510BT",
         "_deepnote_index_column": 48
        },
        {
         "id": "MCO593426721",
         "title": "Cinta Led Multicolor Rgb Luz 5mts + Control + Adaptador",
         "thumbnail": "http://http2.mlstatic.com/D_892089-MCO44006453797_112020-O.jpg",
         "domain_id": "MCO-LED_CHIPS",
         "brand": "RGB 5050",
         "model": "RGB 5050",
         "_deepnote_index_column": 49
        }
       ]
      },
      "text/plain": "                id                                              title  \\\n0     MCO618049088           Audífonos Sony Zx Series Mdr-zx110 Negro   \n1     MCO627599757  Mini Drone Dji Mavic Mini 2 Drdji018 Fly More ...   \n2     MCO616438574                Audífonos In-ear Jbl Tune 110 Black   \n3     MCO838086582  Soporte North Bayou Nb-p4 De Pared Para Tv/mon...   \n4     MCO870314784    Google Chromecast 3.ª Generación Full Hd Carbón   \n...            ...                                                ...   \n1045  MCO592095546  Decodificador Tdt Dvb T2 Antena Wifi Youtube H...   \n1046  MCO826351034  Cabina Sonido Recargable Bluetooth 7000w Micró...   \n1047  MCO607936979  Batería 18650 Panasonic Ncr18650b, Liitokala P...   \n1048  MCO495629897  Grabador Micrófono Voz Audio Digital Profesion...   \n1049  MCO582337364          Cable De Línea 1/4 Estéreo Trs 1.8 Metros   \n\n                                              thumbnail  \\\n0     http://http2.mlstatic.com/D_975252-MLA45258514...   \n1     http://http2.mlstatic.com/D_888397-MLA47979312...   \n2     http://http2.mlstatic.com/D_798368-MLA46444369...   \n3     http://http2.mlstatic.com/D_831097-MLA46523626...   \n4     http://http2.mlstatic.com/D_877407-MLA45315730...   \n...                                                 ...   \n1045  http://http2.mlstatic.com/D_797539-MCO49316716...   \n1046  http://http2.mlstatic.com/D_726509-MCO48062721...   \n1047  http://http2.mlstatic.com/D_710448-MCO44105884...   \n1048  http://http2.mlstatic.com/D_885565-MCO44628269...   \n1049  http://http2.mlstatic.com/D_652174-MCO43136217...   \n\n                                    domain_id        brand  \\\n0                              MCO-HEADPHONES         Sony   \n1                                  MCO-DRONES          DJI   \n2                              MCO-HEADPHONES          JBL   \n3                   MCO-TV_AND_MONITOR_MOUNTS  North Bayou   \n4                 MCO-STREAMING_MEDIA_DEVICES       Google   \n...                                       ...          ...   \n1045            MCO-TV_RECEIVERS_AND_DECODERS          DXG   \n1046                             MCO-SPEAKERS      Quality   \n1047                       MCO-CELL_BATTERIES    Panasonic   \n1048              MCO-DIGITAL_VOICE_RECORDERS       IC 8GB   \n1049  MCO-AUDIO_AND_VIDEO_CABLES_AND_ADAPTERS      Digital   \n\n                    model  \n0               MDR-ZX110  \n1                  Mini 2  \n2                     110  \n3                   NB-P4  \n4              Chromecast  \n...                   ...  \n1045             DXG-2122  \n1046                C-301  \n1047  LiitoKala NCR18650B  \n1048          IC RECORDER  \n1049                 2021  \n\n[1050 rows x 6 columns]",
      "text/html": "<div>\n<style scoped>\n    .dataframe tbody tr th:only-of-type {\n        vertical-align: middle;\n    }\n\n    .dataframe tbody tr th {\n        vertical-align: top;\n    }\n\n    .dataframe thead th {\n        text-align: right;\n    }\n</style>\n<table border=\"1\" class=\"dataframe\">\n  <thead>\n    <tr style=\"text-align: right;\">\n      <th></th>\n      <th>id</th>\n      <th>title</th>\n      <th>thumbnail</th>\n      <th>domain_id</th>\n      <th>brand</th>\n      <th>model</th>\n    </tr>\n  </thead>\n  <tbody>\n    <tr>\n      <th>0</th>\n      <td>MCO618049088</td>\n      <td>Audífonos Sony Zx Series Mdr-zx110 Negro</td>\n      <td>http://http2.mlstatic.com/D_975252-MLA45258514...</td>\n      <td>MCO-HEADPHONES</td>\n      <td>Sony</td>\n      <td>MDR-ZX110</td>\n    </tr>\n    <tr>\n      <th>1</th>\n      <td>MCO627599757</td>\n      <td>Mini Drone Dji Mavic Mini 2 Drdji018 Fly More ...</td>\n      <td>http://http2.mlstatic.com/D_888397-MLA47979312...</td>\n      <td>MCO-DRONES</td>\n      <td>DJI</td>\n      <td>Mini 2</td>\n    </tr>\n    <tr>\n      <th>2</th>\n      <td>MCO616438574</td>\n      <td>Audífonos In-ear Jbl Tune 110 Black</td>\n      <td>http://http2.mlstatic.com/D_798368-MLA46444369...</td>\n      <td>MCO-HEADPHONES</td>\n      <td>JBL</td>\n      <td>110</td>\n    </tr>\n    <tr>\n      <th>3</th>\n      <td>MCO838086582</td>\n      <td>Soporte North Bayou Nb-p4 De Pared Para Tv/mon...</td>\n      <td>http://http2.mlstatic.com/D_831097-MLA46523626...</td>\n      <td>MCO-TV_AND_MONITOR_MOUNTS</td>\n      <td>North Bayou</td>\n      <td>NB-P4</td>\n    </tr>\n    <tr>\n      <th>4</th>\n      <td>MCO870314784</td>\n      <td>Google Chromecast 3.ª Generación Full Hd Carbón</td>\n      <td>http://http2.mlstatic.com/D_877407-MLA45315730...</td>\n      <td>MCO-STREAMING_MEDIA_DEVICES</td>\n      <td>Google</td>\n      <td>Chromecast</td>\n    </tr>\n    <tr>\n      <th>...</th>\n      <td>...</td>\n      <td>...</td>\n      <td>...</td>\n      <td>...</td>\n      <td>...</td>\n      <td>...</td>\n    </tr>\n    <tr>\n      <th>1045</th>\n      <td>MCO592095546</td>\n      <td>Decodificador Tdt Dvb T2 Antena Wifi Youtube H...</td>\n      <td>http://http2.mlstatic.com/D_797539-MCO49316716...</td>\n      <td>MCO-TV_RECEIVERS_AND_DECODERS</td>\n      <td>DXG</td>\n      <td>DXG-2122</td>\n    </tr>\n    <tr>\n      <th>1046</th>\n      <td>MCO826351034</td>\n      <td>Cabina Sonido Recargable Bluetooth 7000w Micró...</td>\n      <td>http://http2.mlstatic.com/D_726509-MCO48062721...</td>\n      <td>MCO-SPEAKERS</td>\n      <td>Quality</td>\n      <td>C-301</td>\n    </tr>\n    <tr>\n      <th>1047</th>\n      <td>MCO607936979</td>\n      <td>Batería 18650 Panasonic Ncr18650b, Liitokala P...</td>\n      <td>http://http2.mlstatic.com/D_710448-MCO44105884...</td>\n      <td>MCO-CELL_BATTERIES</td>\n      <td>Panasonic</td>\n      <td>LiitoKala NCR18650B</td>\n    </tr>\n    <tr>\n      <th>1048</th>\n      <td>MCO495629897</td>\n      <td>Grabador Micrófono Voz Audio Digital Profesion...</td>\n      <td>http://http2.mlstatic.com/D_885565-MCO44628269...</td>\n      <td>MCO-DIGITAL_VOICE_RECORDERS</td>\n      <td>IC 8GB</td>\n      <td>IC RECORDER</td>\n    </tr>\n    <tr>\n      <th>1049</th>\n      <td>MCO582337364</td>\n      <td>Cable De Línea 1/4 Estéreo Trs 1.8 Metros</td>\n      <td>http://http2.mlstatic.com/D_652174-MCO43136217...</td>\n      <td>MCO-AUDIO_AND_VIDEO_CABLES_AND_ADAPTERS</td>\n      <td>Digital</td>\n      <td>2021</td>\n    </tr>\n  </tbody>\n</table>\n<p>1050 rows × 6 columns</p>\n</div>"
     },
     "metadata": {}
    }
   ]
  },
  {
   "cell_type": "code",
   "source": "print(f\"Existen {len(df.id.unique())} productos distintos\")",
   "metadata": {
    "cell_id": "5506228f0f5c4129bcf29ee3e6d904f7",
    "tags": [],
    "deepnote_app_coordinates": {
     "x": 0,
     "y": 0,
     "w": 12,
     "h": 5
    },
    "deepnote_to_be_reexecuted": false,
    "source_hash": "77d44733",
    "execution_start": 1648100789744,
    "execution_millis": 281,
    "is_code_hidden": true,
    "deepnote_app_is_code_hidden": true,
    "deepnote_cell_type": "code",
    "deepnote_cell_height": 105
   },
   "outputs": [
    {
     "name": "stdout",
     "text": "Existen 1050 productos distintos\n",
     "output_type": "stream"
    }
   ],
   "execution_count": 6
  },
  {
   "cell_type": "markdown",
   "source": "Ejemplos de thumbnails\n![Audífonos](http://http2.mlstatic.com/D_975252-MLA45258514131_032021-I.jpg)\n![Audífonos](http://http2.mlstatic.com/D_877407-MLA45315730961_032021-I.jpg)\n![Audífonos](http://http2.mlstatic.com/D_691827-MCO45442068331_042021-O.jpg)\n![Audífonos](http://http2.mlstatic.com/D_892089-MCO44006453797_112020-O.jpg)\nPueden tener tamaños diferentes\nProductos similares tienen thumbnails similares, pero no iguales.\nProductos diferentes también pueden tener thumbnails similares (eg. audífonos)",
   "metadata": {
    "cell_id": "0a21f42567ec4f7eb8fbd88c9b87afbf",
    "tags": [],
    "deepnote_app_coordinates": {
     "x": 0,
     "y": 0,
     "w": 12,
     "h": 5
    },
    "deepnote_to_be_reexecuted": false,
    "source_hash": "4ff38efe",
    "execution_start": 1648095438024,
    "execution_millis": 264,
    "deepnote_cell_type": "markdown",
    "deepnote_cell_height": 1354.800048828125
   },
   "outputs": [],
   "execution_count": 30
  },
  {
   "cell_type": "code",
   "source": "show=30\ncnt=df.groupby(\"domain_id\", as_index=False).size().sort_values(\"size\", ascending=False)\n\nprint(f\"Total domains: {len(cnt)}. Showing the top {show}.\")\nprint(\"Están estandarizadas\")\nplt.figure(figsize=(20,5))\nsns.barplot(data=cnt.head(show), y=\"size\", x=\"domain_id\")\n_=plt.xticks(rotation=90)",
   "metadata": {
    "cell_id": "910089cda70a47529bc823dccce636b9",
    "tags": [],
    "deepnote_app_coordinates": {
     "x": 0,
     "y": 0,
     "w": 12,
     "h": 5
    },
    "deepnote_to_be_reexecuted": false,
    "source_hash": "303c9099",
    "execution_start": 1648100789763,
    "execution_millis": 1623,
    "deepnote_app_is_code_hidden": true,
    "deepnote_cell_type": "code",
    "deepnote_cell_height": 898.4000244140625,
    "deepnote_output_heights": [
     611,
     611
    ]
   },
   "outputs": [
    {
     "name": "stdout",
     "text": "Total domains: 60. Showing the top 30.\nEstán estandarizadas\n",
     "output_type": "stream"
    },
    {
     "data": {
      "text/plain": "<Figure size 2000x500 with 1 Axes>",
      "image/png": "[encoded data removed]"
     },
     "metadata": {
      "needs_background": "light",
      "image/png": {
       "width": 1635,
       "height": 839
      }
     },
     "output_type": "display_data"
    }
   ],
   "execution_count": 7
  },
  {
   "cell_type": "code",
   "source": "show=50\ncnt=df.groupby(\"brand\", as_index=False).size().sort_values(\"size\", ascending=False)\n\nprint(f\"Total brands: {len(cnt)}. Showing the top {show}.\")\nprint(\"Algunas marcas aparentemente idénticas tienen nombres similares, pero no iguales (Genérica-Genérico / WGINGENIERIA-WG Ingenieria)\")\nplt.figure(figsize=(20,5))\nsns.barplot(data=cnt.head(show), y=\"size\", x=\"brand\")\n_=plt.xticks(rotation=80)\n",
   "metadata": {
    "cell_id": "d0256cba16ef44ec8844ef69969dfc67",
    "tags": [],
    "deepnote_app_coordinates": {
     "x": 0,
     "y": 0,
     "w": 12,
     "h": 5
    },
    "deepnote_to_be_reexecuted": false,
    "source_hash": "a502bd23",
    "execution_start": 1648100791396,
    "execution_millis": 2948,
    "deepnote_app_is_code_hidden": true,
    "deepnote_cell_type": "code",
    "deepnote_cell_height": 780.4000244140625,
    "deepnote_output_heights": [
     null,
     475,
     21
    ]
   },
   "outputs": [
    {
     "name": "stdout",
     "text": "Total brands: 351. Showing the top 50.\nAlgunas marcas aparentemente idénticas tienen nombres similares, pero no iguales (Genérica-Genérico / WGINGENIERIA-WG Ingenieria)\n",
     "output_type": "stream"
    },
    {
     "data": {
      "text/plain": "<Figure size 2000x500 with 1 Axes>",
      "image/png": "[encoded data removed]"
     },
     "metadata": {
      "needs_background": "light",
      "image/png": {
       "width": 1626,
       "height": 588
      }
     },
     "output_type": "display_data"
    }
   ],
   "execution_count": 8
  },
  {
   "cell_type": "markdown",
   "source": "### Solución",
   "metadata": {
    "cell_id": "95704966243042d683d459c1ba11d9dd",
    "tags": [],
    "deepnote_app_coordinates": {
     "x": 0,
     "y": 0,
     "w": 12,
     "h": 5
    },
    "deepnote_cell_type": "markdown",
    "deepnote_cell_height": 62
   }
  },
  {
   "cell_type": "markdown",
   "source": "Preprocesar y tokenizar la información de títulos de productos:\n- Normalizar acentos (unicode)\n- Normalizar capitalización y espacios en blanco\n- Eliminar puntuación y *stopwords*\n- Otras ideas:\n    - Corregir ortografía",
   "metadata": {
    "cell_id": "ac0803f8af954be3a86804b8356460d5",
    "tags": [],
    "deepnote_app_coordinates": {
     "x": 0,
     "y": 0,
     "w": 12,
     "h": 5
    },
    "deepnote_cell_type": "markdown",
    "deepnote_cell_height": 206.89999389648438
   }
  },
  {
   "cell_type": "code",
   "metadata": {
    "cell_id": "00005-bdad206a-4c6c-41b0-9d64-22f25f2e3265",
    "deepnote_to_be_reexecuted": false,
    "source_hash": "1083c423",
    "execution_start": 1648100794368,
    "execution_millis": 3551,
    "deepnote_app_coordinates": {
     "x": 0,
     "y": 30,
     "w": 12,
     "h": 5
    },
    "is_code_hidden": true,
    "deepnote_app_is_code_hidden": true,
    "deepnote_cell_type": "code",
    "deepnote_cell_height": 124.19999694824219,
    "deepnote_output_heights": [
     21
    ]
   },
   "source": "# Global Preprocessing Utils\n\nnlp = spacy.load(\"es_core_news_md\")\n\n\ndef preprocessor(text: str):\n    text = unicodedata.normalize(\"NFKD\", text)\n    return text.lower().strip()\n\n\ndef tokenizer(text: str):\n    doc = nlp(text)  # probably overkill using spacy for this but ok\n    tokens = [word.lemma_ for word in doc if not word.is_stop and not word.is_punct]\n    return tokens\n\ntxt=\"Hola mamá!\"\nprint(f\"Texto original: {txt}\")\nprint(f\"Texto procesado: {tokenizer(preprocessor(txt))}\")",
   "execution_count": 9,
   "outputs": [
    {
     "name": "stdout",
     "text": "Texto original: Hola mamá!\nTexto procesado: ['hola', 'mamá']\n",
     "output_type": "stream"
    }
   ]
  },
  {
   "cell_type": "markdown",
   "source": "Crear vectores numéricos que representen los títulos de los productos a partir de las palabras que los componen. \n\n- Bag of Words\n- TF-IDF\n- Tok2Vec (spacy)\n- Otras ideas:\n    - Modelos más complejos (huggingface)\n    - Modelos afinados a información de retail y marketplace",
   "metadata": {
    "cell_id": "de3e66a8eece426e9b7db018fe17536e",
    "tags": [],
    "deepnote_app_coordinates": {
     "x": 0,
     "y": 0,
     "w": 12,
     "h": 5
    },
    "deepnote_cell_type": "markdown",
    "deepnote_cell_height": 232.8000030517578
   }
  },
  {
   "cell_type": "code",
   "metadata": {
    "cell_id": "00006-e53662ee-c52f-4d9e-b011-79e6e464651b",
    "deepnote_to_be_reexecuted": false,
    "source_hash": "e75e2a08",
    "execution_start": 1648100797522,
    "execution_millis": 8,
    "is_code_hidden": true,
    "deepnote_app_is_code_hidden": true,
    "deepnote_cell_type": "code",
    "deepnote_cell_height": 74.80000305175781
   },
   "source": "class Embedding(Protocol):\n    @classmethod\n    def initialize(cls, corpus: list[str]) -> None:\n        ...\n\n    def similarity(self, other: \"Embedding\") -> float:\n        ...\n",
   "execution_count": 10,
   "outputs": []
  },
  {
   "cell_type": "code",
   "metadata": {
    "cell_id": "00007-d1c221a6-bf9d-457b-912a-d4997a4a2e91",
    "deepnote_to_be_reexecuted": false,
    "source_hash": "d7c1c745",
    "execution_start": 1648100797539,
    "execution_millis": 10,
    "is_code_hidden": true,
    "deepnote_cell_type": "code",
    "deepnote_cell_height": 74.80000305175781
   },
   "source": "class SpacyEmbedding:\n    def __init__(self, text: str):\n        self.embedding = nlp(text)\n\n    @classmethod\n    def initialize(cls, corpus: list[str]) -> None:\n        pass\n\n    def similarity(self, other: \"SpacyEmbedding\") -> float:\n        return self.embedding.similarity(other.embedding)\n\n    def __repr__(self):\n        return str(tuple(self.embedding))\n",
   "execution_count": 11,
   "outputs": []
  },
  {
   "cell_type": "code",
   "metadata": {
    "cell_id": "00008-2e105149-0a79-4a40-b3ac-483f8a5e1c93",
    "deepnote_to_be_reexecuted": false,
    "source_hash": "fd47b3b3",
    "execution_start": 1648100797557,
    "execution_millis": 10,
    "is_code_hidden": true,
    "deepnote_cell_type": "code",
    "deepnote_cell_height": 74.80000305175781
   },
   "source": "class BagOfWordsEmbedding:\n    def __init__(self, text: str):\n        self.embedding = self.bow.transform([text])[0]\n        self.tokens = tokenizer(text)\n\n    @classmethod\n    def initialize(cls, corpus: list[str]) -> None:\n        cls.bow = CountVectorizer(tokenizer=tokenizer, preprocessor=preprocessor).fit(\n            corpus\n        )\n\n    def similarity(self, other: \"BagOfWordsEmbedding\") -> float:\n        return cosine_similarity(self.embedding, other.embedding)[0][0]\n\n    def __repr__(self):\n        return str(tuple(self.tokens))\n",
   "execution_count": 12,
   "outputs": []
  },
  {
   "cell_type": "code",
   "metadata": {
    "cell_id": "00009-a4b2883b-41ff-450b-8f97-1a04238c5870",
    "deepnote_to_be_reexecuted": false,
    "source_hash": "507617bc",
    "execution_start": 1648100797576,
    "execution_millis": 11,
    "is_code_hidden": true,
    "deepnote_cell_type": "code",
    "deepnote_cell_height": 74.80000305175781
   },
   "source": "class TFIDFEmbedding:\n    def __init__(self, text: str):\n        self.embedding = self.tfidf.transform([text])[0]\n        self.tokens = tokenizer(text)\n\n    @classmethod\n    def initialize(cls, corpus: list[str]) -> None:\n        cls.tfidf = TfidfVectorizer(tokenizer=tokenizer, preprocessor=preprocessor).fit(\n            corpus\n        )\n\n    def similarity(self, other: \"TFIDFEmbedding\") -> float:\n        return cosine_similarity(self.embedding, other.embedding)[0][0]\n\n    def __repr__(self):\n        return str(tuple(self.tokens))\n",
   "execution_count": 13,
   "outputs": []
  },
  {
   "cell_type": "code",
   "metadata": {
    "cell_id": "00010-06044fd3-b796-4568-86bb-7b02182ae2e1",
    "deepnote_to_be_reexecuted": false,
    "source_hash": "ea625a1a",
    "execution_start": 1648100797614,
    "execution_millis": 16372,
    "is_code_hidden": true,
    "is_output_hidden": true,
    "deepnote_cell_type": "code",
    "deepnote_cell_height": 105.60000610351562,
    "deepnote_output_heights": [
     397
    ]
   },
   "source": "def find_embeddings(df, embedding_type: Type[Embedding], embedding_cols: tuple[str]):\n\n    embedding_type.initialize(df.title)\n    for col in embedding_cols:\n        df[f\"{col}_embedding\"] = df[col].apply(embedding_type)\n    return df\n\n\nEMBEDDING_COLS = (\"title\",)  # , \"brand\", \"model\"]\ndf = find_embeddings(df, SpacyEmbedding, EMBEDDING_COLS)\ndf\n",
   "execution_count": 14,
   "outputs": [
    {
     "output_type": "execute_result",
     "execution_count": 14,
     "data": {
      "application/vnd.deepnote.dataframe.v3+json": {
       "column_count": 7,
       "row_count": 1050,
       "columns": [
        {
         "name": "id",
         "dtype": "object",
         "stats": {
          "unique_count": 1050,
          "nan_count": 0,
          "categories": [
           {
            "name": "MCO618049088",
            "count": 1
           },
           {
            "name": "MCO627599757",
            "count": 1
           },
           {
            "name": "1048 others",
            "count": 1048
           }
          ]
         }
        },
        {
         "name": "title",
         "dtype": "object",
         "stats": {
          "unique_count": 1017,
          "nan_count": 0,
          "categories": [
           {
            "name": "Soporte Base Pared Tv Lcd Led Base 14 Hasta 55 '' 50kg Full",
            "count": 3
           },
           {
            "name": "Soporte Brazo Monitor Para 2 Pantallas Lcd Led Escritorio",
            "count": 3
           },
           {
            "name": "1015 others",
            "count": 1044
           }
          ]
         }
        },
        {
         "name": "thumbnail",
         "dtype": "object",
         "stats": {
          "unique_count": 1047,
          "nan_count": 0,
          "categories": [
           {
            "name": "http://http2.mlstatic.com/D_895108-MCO41065872997_032020-I.jpg",
            "count": 2
           },
           {
            "name": "http://http2.mlstatic.com/D_680392-MCO47556889064_092021-I.jpg",
            "count": 2
           },
           {
            "name": "1045 others",
            "count": 1046
           }
          ]
         }
        },
        {
         "name": "domain_id",
         "dtype": "object",
         "stats": {
          "unique_count": 60,
          "nan_count": 0,
          "categories": [
           {
            "name": "MCO-HEADPHONES",
            "count": 170
           },
           {
            "name": "MCO-AUDIO_AND_VIDEO_CABLES_AND_ADAPTERS",
            "count": 114
           },
           {
            "name": "58 others",
            "count": 766
           }
          ]
         }
        },
        {
         "name": "brand",
         "dtype": "object",
         "stats": {
          "unique_count": 351,
          "nan_count": 67,
          "categories": [
           {
            "name": "JBL",
            "count": 50
           },
           {
            "name": "350 others",
            "count": 933
           },
           {
            "name": "Missing",
            "count": 67
           }
          ]
         }
        },
        {
         "name": "model",
         "dtype": "object",
         "stats": {
          "unique_count": 710,
          "nan_count": 114,
          "categories": [
           {
            "name": "EL DESCRITO EN LA PUBLICACION",
            "count": 12
           },
           {
            "name": "709 others",
            "count": 924
           },
           {
            "name": "Missing",
            "count": 114
           }
          ]
         }
        },
        {
         "name": "title_embedding",
         "dtype": "object",
         "stats": {
          "unique_count": 1050,
          "nan_count": 0,
          "categories": [
           {
            "name": "(Soporte, Base, Pared, Tv, Lcd, Led, Base, 14, Hasta, 55, '', 50, kg, Full)",
            "count": 3
           },
           {
            "name": "(Soporte, Plegable, Para, Decodificador, Parte, Superior, Tv)",
            "count": 3
           },
           {
            "name": "1010 others",
            "count": 1044
           }
          ]
         }
        },
        {
         "name": "_deepnote_index_column",
         "dtype": "int64"
        }
       ],
       "rows": [
        {
         "id": "MCO618049088",
         "title": "Audífonos Sony Zx Series Mdr-zx110 Negro",
         "thumbnail": "http://http2.mlstatic.com/D_975252-MLA45258514131_032021-I.jpg",
         "domain_id": "MCO-HEADPHONES",
         "brand": "Sony",
         "model": "MDR-ZX110",
         "title_embedding": "(Audífonos, Sony, Zx, Series, Mdr-zx110, Negro)",
         "_deepnote_index_column": 0
        },
        {
         "id": "MCO627599757",
         "title": "Mini Drone Dji Mavic Mini 2 Drdji018 Fly More Combo Con Cámara 4k Light Gray 3 Baterías",
         "thumbnail": "http://http2.mlstatic.com/D_888397-MLA47979312257_102021-I.jpg",
         "domain_id": "MCO-DRONES",
         "brand": "DJI",
         "model": "Mini 2",
         "title_embedding": "(Mini, Drone, Dji, Mavic, Mini, 2, Drdji018, Fly, More, Combo, Con, Cámara, 4k, Light, Gray, 3, Baterías)",
         "_deepnote_index_column": 1
        },
        {
         "id": "MCO616438574",
         "title": "Audífonos In-ear Jbl Tune 110 Black",
         "thumbnail": "http://http2.mlstatic.com/D_798368-MLA46444369556_062021-I.jpg",
         "domain_id": "MCO-HEADPHONES",
         "brand": "JBL",
         "model": "110",
         "title_embedding": "(Audífonos, In-ear, Jbl, Tune, 110, Black)",
         "_deepnote_index_column": 2
        },
        {
         "id": "MCO838086582",
         "title": "Soporte North Bayou Nb-p4 De Pared Para Tv/monitor De 32  A 55  Negro",
         "thumbnail": "http://http2.mlstatic.com/D_831097-MLA46523626040_062021-I.jpg",
         "domain_id": "MCO-TV_AND_MONITOR_MOUNTS",
         "brand": "North Bayou",
         "model": "NB-P4",
         "title_embedding": "(Soporte, North, Bayou, Nb-p4, De, Pared, Para, Tv, /, monitor, De, 32,  , A, 55,  , Negro)",
         "_deepnote_index_column": 3
        },
        {
         "id": "MCO870314784",
         "title": "Google Chromecast 3.ª Generación Full Hd Carbón",
         "thumbnail": "http://http2.mlstatic.com/D_877407-MLA45315730961_032021-I.jpg",
         "domain_id": "MCO-STREAMING_MEDIA_DEVICES",
         "brand": "Google",
         "model": "Chromecast",
         "title_embedding": "(Google, Chromecast, 3.ª, Generación, Full, Hd, Carbón)",
         "_deepnote_index_column": 4
        },
        {
         "id": "MCO649342398",
         "title": "Audífono Inalámbrico Jbl Tune 510bt Negro",
         "thumbnail": "http://http2.mlstatic.com/D_706370-MLA46540739256_062021-I.jpg",
         "domain_id": "MCO-HEADPHONES",
         "brand": "JBL",
         "model": "510BT",
         "title_embedding": "(Audífono, Inalámbrico, Jbl, Tune, 510bt, Negro)",
         "_deepnote_index_column": 5
        },
        {
         "id": "MCO838336512",
         "title": "Soporte North Bayou Nb F80 De Mesa Para Tv/monitor De 17  A 30  Negro",
         "thumbnail": "http://http2.mlstatic.com/D_701870-MLA46522721289_062021-I.jpg",
         "domain_id": "MCO-TV_AND_MONITOR_MOUNTS",
         "brand": "North Bayou",
         "model": "NB F80",
         "title_embedding": "(Soporte, North, Bayou, Nb, F80, De, Mesa, Para, Tv, /, monitor, De, 17,  , A, 30,  , Negro)",
         "_deepnote_index_column": 6
        },
        {
         "id": "MCO618060363",
         "title": "Audífonos Sony Zx Series Mdr-zx310ap Black",
         "thumbnail": "http://http2.mlstatic.com/D_983450-MLA45269540137_032021-I.jpg",
         "domain_id": "MCO-HEADPHONES",
         "brand": "Sony",
         "model": "MDR-ZX310AP",
         "title_embedding": "(Audífonos, Sony, Zx, Series, Mdr-zx310ap, Black)",
         "_deepnote_index_column": 7
        },
        {
         "id": "MCO827248852",
         "title": "Roku Express 3930 Estándar Full Hd 32mb Negro Con 512mb De Memoria Ram",
         "thumbnail": "http://http2.mlstatic.com/D_976178-MLA45315582047_032021-I.jpg",
         "domain_id": "MCO-STREAMING_MEDIA_DEVICES",
         "brand": "Roku",
         "model": "Express",
         "title_embedding": "(Roku, Express, 3930, Estándar, Full, Hd, 32, mb, Negro, Con, 512, mb, De, Memoria, Ram)",
         "_deepnote_index_column": 8
        },
        {
         "id": "MCO840520264",
         "title": "Smart Tv Samsung Series 8 Un50au8000kxzl Led 4k 50  100v/240v",
         "thumbnail": "http://http2.mlstatic.com/D_866962-MLA47916973959_102021-I.jpg",
         "domain_id": "MCO-TELEVISIONS",
         "brand": "Samsung",
         "model": "UN50AU8000K",
         "title_embedding": "(Smart, Tv, Samsung, Series, 8, Un50au8000kxzl, Led, 4k, 50,  , 100v/240v)",
         "_deepnote_index_column": 9
        }
       ]
      },
      "text/plain": "                id                                              title  \\\n0     MCO618049088           Audífonos Sony Zx Series Mdr-zx110 Negro   \n1     MCO627599757  Mini Drone Dji Mavic Mini 2 Drdji018 Fly More ...   \n2     MCO616438574                Audífonos In-ear Jbl Tune 110 Black   \n3     MCO838086582  Soporte North Bayou Nb-p4 De Pared Para Tv/mon...   \n4     MCO870314784    Google Chromecast 3.ª Generación Full Hd Carbón   \n...            ...                                                ...   \n1045  MCO592095546  Decodificador Tdt Dvb T2 Antena Wifi Youtube H...   \n1046  MCO826351034  Cabina Sonido Recargable Bluetooth 7000w Micró...   \n1047  MCO607936979  Batería 18650 Panasonic Ncr18650b, Liitokala P...   \n1048  MCO495629897  Grabador Micrófono Voz Audio Digital Profesion...   \n1049  MCO582337364          Cable De Línea 1/4 Estéreo Trs 1.8 Metros   \n\n                                              thumbnail  \\\n0     http://http2.mlstatic.com/D_975252-MLA45258514...   \n1     http://http2.mlstatic.com/D_888397-MLA47979312...   \n2     http://http2.mlstatic.com/D_798368-MLA46444369...   \n3     http://http2.mlstatic.com/D_831097-MLA46523626...   \n4     http://http2.mlstatic.com/D_877407-MLA45315730...   \n...                                                 ...   \n1045  http://http2.mlstatic.com/D_797539-MCO49316716...   \n1046  http://http2.mlstatic.com/D_726509-MCO48062721...   \n1047  http://http2.mlstatic.com/D_710448-MCO44105884...   \n1048  http://http2.mlstatic.com/D_885565-MCO44628269...   \n1049  http://http2.mlstatic.com/D_652174-MCO43136217...   \n\n                                    domain_id        brand  \\\n0                              MCO-HEADPHONES         Sony   \n1                                  MCO-DRONES          DJI   \n2                              MCO-HEADPHONES          JBL   \n3                   MCO-TV_AND_MONITOR_MOUNTS  North Bayou   \n4                 MCO-STREAMING_MEDIA_DEVICES       Google   \n...                                       ...          ...   \n1045            MCO-TV_RECEIVERS_AND_DECODERS          DXG   \n1046                             MCO-SPEAKERS      Quality   \n1047                       MCO-CELL_BATTERIES    Panasonic   \n1048              MCO-DIGITAL_VOICE_RECORDERS       IC 8GB   \n1049  MCO-AUDIO_AND_VIDEO_CABLES_AND_ADAPTERS      Digital   \n\n                    model                                    title_embedding  \n0               MDR-ZX110    (Audífonos, Sony, Zx, Series, Mdr-zx110, Negro)  \n1                  Mini 2  (Mini, Drone, Dji, Mavic, Mini, 2, Drdji018, F...  \n2                     110         (Audífonos, In-ear, Jbl, Tune, 110, Black)  \n3                   NB-P4  (Soporte, North, Bayou, Nb-p4, De, Pared, Para...  \n4              Chromecast  (Google, Chromecast, 3.ª, Generación, Full, Hd...  \n...                   ...                                                ...  \n1045             DXG-2122  (Decodificador, Tdt, Dvb, T2, Antena, Wifi, Yo...  \n1046                C-301  (Cabina, Sonido, Recargable, Bluetooth, 7000w,...  \n1047  LiitoKala NCR18650B  (Batería, 18650, Panasonic, Ncr18650b, ,, Liit...  \n1048          IC RECORDER  (Grabador, Micrófono, Voz, Audio, Digital, Pro...  \n1049                 2021  (Cable, De, Línea, 1/4, Estéreo, Trs, 1.8, Met...  \n\n[1050 rows x 7 columns]",
      "text/html": "<div>\n<style scoped>\n    .dataframe tbody tr th:only-of-type {\n        vertical-align: middle;\n    }\n\n    .dataframe tbody tr th {\n        vertical-align: top;\n    }\n\n    .dataframe thead th {\n        text-align: right;\n    }\n</style>\n<table border=\"1\" class=\"dataframe\">\n  <thead>\n    <tr style=\"text-align: right;\">\n      <th></th>\n      <th>id</th>\n      <th>title</th>\n      <th>thumbnail</th>\n      <th>domain_id</th>\n      <th>brand</th>\n      <th>model</th>\n      <th>title_embedding</th>\n    </tr>\n  </thead>\n  <tbody>\n    <tr>\n      <th>0</th>\n      <td>MCO618049088</td>\n      <td>Audífonos Sony Zx Series Mdr-zx110 Negro</td>\n      <td>http://http2.mlstatic.com/D_975252-MLA45258514...</td>\n      <td>MCO-HEADPHONES</td>\n      <td>Sony</td>\n      <td>MDR-ZX110</td>\n      <td>(Audífonos, Sony, Zx, Series, Mdr-zx110, Negro)</td>\n    </tr>\n    <tr>\n      <th>1</th>\n      <td>MCO627599757</td>\n      <td>Mini Drone Dji Mavic Mini 2 Drdji018 Fly More ...</td>\n      <td>http://http2.mlstatic.com/D_888397-MLA47979312...</td>\n      <td>MCO-DRONES</td>\n      <td>DJI</td>\n      <td>Mini 2</td>\n      <td>(Mini, Drone, Dji, Mavic, Mini, 2, Drdji018, F...</td>\n    </tr>\n    <tr>\n      <th>2</th>\n      <td>MCO616438574</td>\n      <td>Audífonos In-ear Jbl Tune 110 Black</td>\n      <td>http://http2.mlstatic.com/D_798368-MLA46444369...</td>\n      <td>MCO-HEADPHONES</td>\n      <td>JBL</td>\n      <td>110</td>\n      <td>(Audífonos, In-ear, Jbl, Tune, 110, Black)</td>\n    </tr>\n    <tr>\n      <th>3</th>\n      <td>MCO838086582</td>\n      <td>Soporte North Bayou Nb-p4 De Pared Para Tv/mon...</td>\n      <td>http://http2.mlstatic.com/D_831097-MLA46523626...</td>\n      <td>MCO-TV_AND_MONITOR_MOUNTS</td>\n      <td>North Bayou</td>\n      <td>NB-P4</td>\n      <td>(Soporte, North, Bayou, Nb-p4, De, Pared, Para...</td>\n    </tr>\n    <tr>\n      <th>4</th>\n      <td>MCO870314784</td>\n      <td>Google Chromecast 3.ª Generación Full Hd Carbón</td>\n      <td>http://http2.mlstatic.com/D_877407-MLA45315730...</td>\n      <td>MCO-STREAMING_MEDIA_DEVICES</td>\n      <td>Google</td>\n      <td>Chromecast</td>\n      <td>(Google, Chromecast, 3.ª, Generación, Full, Hd...</td>\n    </tr>\n    <tr>\n      <th>...</th>\n      <td>...</td>\n      <td>...</td>\n      <td>...</td>\n      <td>...</td>\n      <td>...</td>\n      <td>...</td>\n      <td>...</td>\n    </tr>\n    <tr>\n      <th>1045</th>\n      <td>MCO592095546</td>\n      <td>Decodificador Tdt Dvb T2 Antena Wifi Youtube H...</td>\n      <td>http://http2.mlstatic.com/D_797539-MCO49316716...</td>\n      <td>MCO-TV_RECEIVERS_AND_DECODERS</td>\n      <td>DXG</td>\n      <td>DXG-2122</td>\n      <td>(Decodificador, Tdt, Dvb, T2, Antena, Wifi, Yo...</td>\n    </tr>\n    <tr>\n      <th>1046</th>\n      <td>MCO826351034</td>\n      <td>Cabina Sonido Recargable Bluetooth 7000w Micró...</td>\n      <td>http://http2.mlstatic.com/D_726509-MCO48062721...</td>\n      <td>MCO-SPEAKERS</td>\n      <td>Quality</td>\n      <td>C-301</td>\n      <td>(Cabina, Sonido, Recargable, Bluetooth, 7000w,...</td>\n    </tr>\n    <tr>\n      <th>1047</th>\n      <td>MCO607936979</td>\n      <td>Batería 18650 Panasonic Ncr18650b, Liitokala P...</td>\n      <td>http://http2.mlstatic.com/D_710448-MCO44105884...</td>\n      <td>MCO-CELL_BATTERIES</td>\n      <td>Panasonic</td>\n      <td>LiitoKala NCR18650B</td>\n      <td>(Batería, 18650, Panasonic, Ncr18650b, ,, Liit...</td>\n    </tr>\n    <tr>\n      <th>1048</th>\n      <td>MCO495629897</td>\n      <td>Grabador Micrófono Voz Audio Digital Profesion...</td>\n      <td>http://http2.mlstatic.com/D_885565-MCO44628269...</td>\n      <td>MCO-DIGITAL_VOICE_RECORDERS</td>\n      <td>IC 8GB</td>\n      <td>IC RECORDER</td>\n      <td>(Grabador, Micrófono, Voz, Audio, Digital, Pro...</td>\n    </tr>\n    <tr>\n      <th>1049</th>\n      <td>MCO582337364</td>\n      <td>Cable De Línea 1/4 Estéreo Trs 1.8 Metros</td>\n      <td>http://http2.mlstatic.com/D_652174-MCO43136217...</td>\n      <td>MCO-AUDIO_AND_VIDEO_CABLES_AND_ADAPTERS</td>\n      <td>Digital</td>\n      <td>2021</td>\n      <td>(Cable, De, Línea, 1/4, Estéreo, Trs, 1.8, Met...</td>\n    </tr>\n  </tbody>\n</table>\n<p>1050 rows × 7 columns</p>\n</div>"
     },
     "metadata": {}
    }
   ]
  },
  {
   "cell_type": "code",
   "source": "df.title_embedding.iloc[0].embedding.vector",
   "metadata": {
    "cell_id": "ef6febcf5c4b4eaf8d3238d4262195c9",
    "tags": [],
    "deepnote_app_coordinates": {
     "x": 0,
     "y": 0,
     "w": 12,
     "h": 5
    },
    "deepnote_to_be_reexecuted": false,
    "source_hash": "31ef4676",
    "execution_start": 1648100813982,
    "execution_millis": 44,
    "is_code_hidden": true,
    "deepnote_app_is_code_hidden": true,
    "deepnote_cell_type": "code",
    "deepnote_cell_height": 701.7999877929688,
    "deepnote_output_heights": [
     611
    ]
   },
   "outputs": [
    {
     "output_type": "execute_result",
     "execution_count": 15,
     "data": {
      "text/plain": "array([-1.57036677e-01, -1.27449930e-01,  2.02963337e-01,  1.81800020e+00,\n       -1.39067841e+00,  1.01611841e+00, -5.61863363e-01, -5.89203417e-01,\n       -1.06117129e-03, -5.59911668e-01,  9.55800042e-02,  1.26803443e-01,\n       -9.12093341e-01, -3.44569951e-01, -1.15635669e+00,  3.39016728e-02,\n       -9.22848284e-01,  3.67524981e-01, -2.94809997e-01, -1.19448507e+00,\n       -6.10980034e-01, -3.06109995e-01,  2.17084989e-01,  2.05259490e+00,\n        7.47595608e-01, -1.23138344e+00, -3.41080666e-01,  2.25306824e-01,\n        3.33868355e-01,  7.76233375e-01,  4.66222256e-01,  4.99633551e-02,\n       -3.14239949e-01, -8.86201620e-01,  1.19142510e-01, -2.77753323e-01,\n       -3.74789715e-01,  8.61733481e-02,  1.29951668e+00, -2.55101651e-01,\n        8.83711576e-01, -2.83636659e-01,  1.00609995e-01, -9.61765051e-01,\n        1.81588337e-01, -1.67453364e-01, -9.17557895e-01,  2.55142659e-01,\n        8.84229764e-02, -6.74534857e-01,  4.71100211e-02,  1.37858999e+00,\n       -8.83150101e-02, -8.09656441e-01,  1.15032327e+00,  2.12913334e-01,\n        1.29695833e+00,  2.83080637e-01, -1.19463336e+00, -1.02968383e+00,\n       -3.19848359e-01,  7.54069030e-01, -3.63224983e-01, -5.31925023e-01,\n       -7.41233304e-02, -5.36241829e-01,  6.40843332e-01,  5.16741693e-01,\n        1.01676834e+00,  8.08984280e-01,  8.20631683e-01,  3.21525335e-01,\n        3.43413353e-02,  7.02153385e-01, -7.35406637e-01,  1.29231676e-01,\n        3.58503371e-01, -4.82358545e-01, -1.98196661e+00,  2.36818358e-01,\n        6.15066767e-01,  2.49151349e-01, -6.58068359e-01,  1.81543335e-01,\n        1.58164656e+00,  3.15995008e-01,  4.34016399e-02,  3.06215018e-01,\n        7.32548296e-01, -6.38039947e-01,  8.32041681e-01, -3.47648352e-01,\n        4.98657554e-01,  2.45746684e+00,  1.39154673e+00,  1.70274973e-01,\n        6.90622628e-01,  2.47066692e-02, -4.74623322e-01,  4.57822323e-01,\n       -1.82000007e-02, -2.42016707e-02,  1.29179847e+00, -1.01372659e-01,\n       -1.64073336e+00,  1.47645073e-02, -3.61596674e-01,  5.02985001e-01,\n        1.37351835e+00, -1.19373834e+00, -1.25810337e+00, -1.64660498e-01,\n       -5.75016677e-01,  8.72641742e-01,  6.01265013e-01, -4.31156635e-01,\n        6.84138298e-01,  1.14517677e+00, -2.02716684e+00, -1.09772837e+00,\n       -9.10636663e-01,  8.02145631e-04,  9.86801684e-01,  5.77583164e-02,\n        5.91345012e-01, -9.50850025e-02,  6.45753980e-01, -1.41874999e-01,\n       -4.36283261e-01, -8.98650289e-02, -6.33562624e-01,  1.36804008e+00,\n        4.99635339e-01,  1.86321691e-01, -6.72219992e-01,  4.53926653e-01,\n       -1.85654804e-01, -3.88536662e-01,  6.87701881e-01,  5.67163348e-01,\n        2.14228317e-01,  6.54951632e-01,  1.61080992e+00, -7.10938275e-01,\n        2.33733341e-01, -1.22342789e+00,  1.21771014e+00, -1.55047834e+00,\n        9.62749958e-01, -1.75529957e-01,  1.43479002e+00, -1.50338161e+00,\n       -1.09161842e+00, -1.21136498e+00, -2.92598337e-01, -1.05290651e+00,\n        2.53881156e-01, -1.35133839e+00,  4.70263332e-01,  1.00143826e+00,\n        6.21983409e-02,  6.43650219e-02, -8.99016485e-02, -5.08272231e-01,\n       -6.77025020e-01, -1.76434994e+00,  5.60607910e-02, -8.36499929e-02,\n        1.85942328e+00,  7.25130022e-01, -4.48290020e-01, -1.17380488e+00,\n        6.74741685e-01, -1.74071625e-01,  3.87989998e-01,  1.18057168e+00,\n        5.88959992e-01, -1.34993327e+00, -1.32226676e-01,  5.05353272e-01,\n       -5.58039665e-01,  8.30068290e-01,  1.69110668e+00, -3.03023338e-01,\n        1.09943163e+00,  9.91770029e-01, -6.02833271e-01, -5.30979991e-01,\n        3.04717153e-01, -9.78701770e-01,  2.39576653e-01,  8.21379900e-01,\n       -1.47843003e-01,  4.92773324e-01,  3.70513350e-01,  5.74829817e-01,\n        1.09878337e+00, -1.01630330e+00, -5.77089965e-01,  1.17157328e+00,\n       -8.93350065e-01, -3.26963335e-01, -8.07616651e-01,  2.04299986e-02,\n       -9.99866664e-01,  7.52411664e-01, -1.27873838e+00, -9.22398329e-01,\n       -4.27298337e-01,  5.49604952e-01, -5.41341789e-02,  5.67751706e-01,\n       -8.16903353e-01,  4.33901668e-01,  1.36305177e+00,  1.19815826e+00,\n       -2.13553354e-01, -9.97804940e-01, -5.38837016e-01, -6.94988251e-01,\n       -4.35251713e-01, -7.30578244e-01,  1.17057633e+00,  1.39559019e+00,\n       -2.48412505e-01, -2.14749670e+00, -8.04181635e-01,  5.63468397e-01,\n        1.24318622e-01, -4.51181501e-01, -1.47470009e+00,  1.44926500e+00,\n        7.11746693e-01, -1.28345028e-01, -1.61010325e-01,  9.96443272e-01,\n        9.02715027e-01,  2.49492005e-01, -2.04153344e-01,  6.89434707e-01,\n       -2.33921647e-01,  5.89266606e-02,  7.35398293e-01, -7.05041111e-01,\n       -9.67551708e-01,  5.96488297e-01, -5.25834978e-01, -1.52297676e+00,\n        3.94111663e-01,  7.45816708e-01,  7.78206646e-01, -2.56803304e-01,\n        1.57650039e-02,  1.42951262e+00,  1.47522008e+00, -4.53360796e-01,\n        1.52729833e+00,  1.28459334e+00,  3.54010195e-01, -4.20831680e-01,\n        1.01066671e-01, -2.12126657e-01,  2.35271677e-01, -4.02899504e-01,\n       -6.53770983e-01,  1.79465342e+00,  9.38767493e-01,  1.55541658e+00,\n        8.26455057e-01,  1.20364833e+00, -1.13320839e+00,  4.81334925e-01,\n        9.55243289e-01,  9.27481651e-01,  1.20568335e+00, -5.43136656e-01,\n       -7.47469962e-01, -4.30170029e-01,  8.46383497e-02, -4.39534336e-01,\n        1.34903356e-01,  5.90231657e-01, -3.57701629e-01,  1.03286731e+00,\n       -1.32771686e-01,  3.06028336e-01, -1.07413895e-01,  1.76380172e-01,\n       -7.02433348e-01,  8.51491630e-01,  2.49275044e-01, -3.83456563e-06,\n        1.97029993e-01, -4.53131676e-01, -1.06349325e+00, -3.27671707e-01,\n        1.01502502e+00, -6.70787156e-01, -4.16491657e-01, -4.82700020e-01],\n      dtype=float32)"
     },
     "metadata": {}
    }
   ],
   "execution_count": 15
  },
  {
   "cell_type": "markdown",
   "source": "Además, construir funciones que dicten la similitud entre dos de estos vectores.\n- Similitud:\n    - Coseno\n    - Euclidiana",
   "metadata": {
    "cell_id": "c320ca7dfc5946a1883466d031398298",
    "tags": [],
    "deepnote_app_coordinates": {
     "x": 0,
     "y": 0,
     "w": 12,
     "h": 5
    },
    "deepnote_cell_type": "markdown",
    "deepnote_cell_height": 155.10000610351562
   }
  },
  {
   "cell_type": "code",
   "metadata": {
    "cell_id": "00011-76003a3e-5003-4df9-8674-ac6dd0d077ac",
    "deepnote_to_be_reexecuted": false,
    "source_hash": "d2adcedc",
    "execution_start": 1648100814024,
    "execution_millis": 248,
    "deepnote_app_coordinates": {
     "x": 0,
     "y": 66,
     "w": 12,
     "h": 5
    },
    "is_code_hidden": true,
    "deepnote_app_is_code_hidden": true,
    "deepnote_cell_type": "code",
    "deepnote_cell_height": 637,
    "deepnote_output_heights": [
     232
    ]
   },
   "source": "def find_similarities(\n    df: pd.DataFrame, embedding: Embedding, feature=\"title_embedding\"\n):\n    similarities = df[feature].apply(embedding.similarity)\n    return similarities\n\nx=df.copy()\nprod, emb=df.title.iloc[0], df.title_embedding.iloc[0]\nx[\"similarity\"]=find_similarities(df, emb)\nprint(f\"Similitudes del producto {prod} a todos los productos del catálogo\")\nx[[\"title\", \"similarity\"]]",
   "execution_count": 16,
   "outputs": [
    {
     "name": "stdout",
     "text": "Similitudes del producto Audífonos Sony Zx Series Mdr-zx110 Negro a todos los productos del catálogo\n",
     "output_type": "stream"
    },
    {
     "output_type": "execute_result",
     "execution_count": 16,
     "data": {
      "application/vnd.deepnote.dataframe.v3+json": {
       "column_count": 2,
       "row_count": 1050,
       "columns": [
        {
         "name": "title",
         "dtype": "object",
         "stats": {
          "unique_count": 1017,
          "nan_count": 0,
          "categories": [
           {
            "name": "Soporte Base Pared Tv Lcd Led Base 14 Hasta 55 '' 50kg Full",
            "count": 3
           },
           {
            "name": "Soporte Brazo Monitor Para 2 Pantallas Lcd Led Escritorio",
            "count": 3
           },
           {
            "name": "1015 others",
            "count": 1044
           }
          ]
         }
        },
        {
         "name": "similarity",
         "dtype": "float64",
         "stats": {
          "unique_count": 984,
          "nan_count": 0,
          "min": "0.04288033296352326",
          "max": "1.0000000158583522",
          "histogram": [
           {
            "bin_start": 0.04288033296352326,
            "bin_end": 0.13859230125300614,
            "count": 14
           },
           {
            "bin_start": 0.13859230125300614,
            "bin_end": 0.23430426954248904,
            "count": 65
           },
           {
            "bin_start": 0.23430426954248904,
            "bin_end": 0.3300162378319719,
            "count": 163
           },
           {
            "bin_start": 0.3300162378319719,
            "bin_end": 0.42572820612145484,
            "count": 271
           },
           {
            "bin_start": 0.42572820612145484,
            "bin_end": 0.5214401744109377,
            "count": 302
           },
           {
            "bin_start": 0.5214401744109377,
            "bin_end": 0.6171521427004205,
            "count": 166
           },
           {
            "bin_start": 0.6171521427004205,
            "bin_end": 0.7128641109899034,
            "count": 40
           },
           {
            "bin_start": 0.7128641109899034,
            "bin_end": 0.8085760792793864,
            "count": 17
           },
           {
            "bin_start": 0.8085760792793864,
            "bin_end": 0.9042880475688693,
            "count": 5
           },
           {
            "bin_start": 0.9042880475688693,
            "bin_end": 1.0000000158583522,
            "count": 7
           }
          ]
         }
        },
        {
         "name": "_deepnote_index_column",
         "dtype": "int64"
        }
       ],
       "rows": [
        {
         "title": "Audífonos Sony Zx Series Mdr-zx110 Negro",
         "similarity": 1,
         "_deepnote_index_column": 0
        },
        {
         "title": "Mini Drone Dji Mavic Mini 2 Drdji018 Fly More Combo Con Cámara 4k Light Gray 3 Baterías",
         "similarity": 0.558294678228504,
         "_deepnote_index_column": 1
        },
        {
         "title": "Audífonos In-ear Jbl Tune 110 Black",
         "similarity": 0.49039240316291804,
         "_deepnote_index_column": 2
        },
        {
         "title": "Soporte North Bayou Nb-p4 De Pared Para Tv/monitor De 32  A 55  Negro",
         "similarity": 0.32166607685320137,
         "_deepnote_index_column": 3
        },
        {
         "title": "Google Chromecast 3.ª Generación Full Hd Carbón",
         "similarity": 0.411027857493068,
         "_deepnote_index_column": 4
        },
        {
         "title": "Audífono Inalámbrico Jbl Tune 510bt Negro",
         "similarity": 0.4868187220864687,
         "_deepnote_index_column": 5
        },
        {
         "title": "Soporte North Bayou Nb F80 De Mesa Para Tv/monitor De 17  A 30  Negro",
         "similarity": 0.3436710052202225,
         "_deepnote_index_column": 6
        },
        {
         "title": "Audífonos Sony Zx Series Mdr-zx310ap Black",
         "similarity": 0.9276679248528628,
         "_deepnote_index_column": 7
        },
        {
         "title": "Roku Express 3930 Estándar Full Hd 32mb Negro Con 512mb De Memoria Ram",
         "similarity": 0.37018933004120547,
         "_deepnote_index_column": 8
        },
        {
         "title": "Smart Tv Samsung Series 8 Un50au8000kxzl Led 4k 50  100v/240v",
         "similarity": 0.5523192927373153,
         "_deepnote_index_column": 9
        }
       ]
      },
      "text/plain": "                                                  title  similarity\n0              Audífonos Sony Zx Series Mdr-zx110 Negro    1.000000\n1     Mini Drone Dji Mavic Mini 2 Drdji018 Fly More ...    0.558295\n2                   Audífonos In-ear Jbl Tune 110 Black    0.490392\n3     Soporte North Bayou Nb-p4 De Pared Para Tv/mon...    0.321666\n4       Google Chromecast 3.ª Generación Full Hd Carbón    0.411028\n...                                                 ...         ...\n1045  Decodificador Tdt Dvb T2 Antena Wifi Youtube H...    0.438849\n1046  Cabina Sonido Recargable Bluetooth 7000w Micró...    0.387595\n1047  Batería 18650 Panasonic Ncr18650b, Liitokala P...    0.456103\n1048  Grabador Micrófono Voz Audio Digital Profesion...    0.495001\n1049          Cable De Línea 1/4 Estéreo Trs 1.8 Metros    0.332263\n\n[1050 rows x 2 columns]",
      "text/html": "<div>\n<style scoped>\n    .dataframe tbody tr th:only-of-type {\n        vertical-align: middle;\n    }\n\n    .dataframe tbody tr th {\n        vertical-align: top;\n    }\n\n    .dataframe thead th {\n        text-align: right;\n    }\n</style>\n<table border=\"1\" class=\"dataframe\">\n  <thead>\n    <tr style=\"text-align: right;\">\n      <th></th>\n      <th>title</th>\n      <th>similarity</th>\n    </tr>\n  </thead>\n  <tbody>\n    <tr>\n      <th>0</th>\n      <td>Audífonos Sony Zx Series Mdr-zx110 Negro</td>\n      <td>1.000000</td>\n    </tr>\n    <tr>\n      <th>1</th>\n      <td>Mini Drone Dji Mavic Mini 2 Drdji018 Fly More ...</td>\n      <td>0.558295</td>\n    </tr>\n    <tr>\n      <th>2</th>\n      <td>Audífonos In-ear Jbl Tune 110 Black</td>\n      <td>0.490392</td>\n    </tr>\n    <tr>\n      <th>3</th>\n      <td>Soporte North Bayou Nb-p4 De Pared Para Tv/mon...</td>\n      <td>0.321666</td>\n    </tr>\n    <tr>\n      <th>4</th>\n      <td>Google Chromecast 3.ª Generación Full Hd Carbón</td>\n      <td>0.411028</td>\n    </tr>\n    <tr>\n      <th>...</th>\n      <td>...</td>\n      <td>...</td>\n    </tr>\n    <tr>\n      <th>1045</th>\n      <td>Decodificador Tdt Dvb T2 Antena Wifi Youtube H...</td>\n      <td>0.438849</td>\n    </tr>\n    <tr>\n      <th>1046</th>\n      <td>Cabina Sonido Recargable Bluetooth 7000w Micró...</td>\n      <td>0.387595</td>\n    </tr>\n    <tr>\n      <th>1047</th>\n      <td>Batería 18650 Panasonic Ncr18650b, Liitokala P...</td>\n      <td>0.456103</td>\n    </tr>\n    <tr>\n      <th>1048</th>\n      <td>Grabador Micrófono Voz Audio Digital Profesion...</td>\n      <td>0.495001</td>\n    </tr>\n    <tr>\n      <th>1049</th>\n      <td>Cable De Línea 1/4 Estéreo Trs 1.8 Metros</td>\n      <td>0.332263</td>\n    </tr>\n  </tbody>\n</table>\n<p>1050 rows × 2 columns</p>\n</div>"
     },
     "metadata": {}
    }
   ]
  },
  {
   "cell_type": "markdown",
   "source": "Para las otras variables de texto, usar coincidencias exactas. Para limitar el scope del reto, no se usarán las variables de tipo imagen.\n\nOtras ideas:\n- Usar similitudes a nivel fonético o a nivel de caracteres",
   "metadata": {
    "cell_id": "247f10d06c1c434bbac0ffe01e6fc545",
    "tags": [],
    "deepnote_app_coordinates": {
     "x": 0,
     "y": 0,
     "w": 12,
     "h": 5
    },
    "deepnote_cell_type": "markdown",
    "deepnote_cell_height": 139.6999969482422
   }
  },
  {
   "cell_type": "code",
   "metadata": {
    "cell_id": "00012-58f8c5fc-0147-4cdb-954c-84a3498e6d92",
    "deepnote_to_be_reexecuted": false,
    "source_hash": "8ee60b74",
    "execution_start": 1648100814304,
    "execution_millis": 64,
    "deepnote_app_coordinates": {
     "x": 0,
     "y": 72,
     "w": 12,
     "h": 5
    },
    "is_code_hidden": true,
    "deepnote_app_is_code_hidden": true,
    "deepnote_cell_type": "code",
    "deepnote_cell_height": 350,
    "deepnote_output_heights": [
     232
    ]
   },
   "source": "def feature_exact_match(df: pd.DataFrame, feature: str, feature_value):\n    return df[feature] == feature_value\n\nbrand=\"Unitec\"\nx=df.copy()\nx[\"match\"]=feature_exact_match(df, \"brand\", brand)\n\nprint(f\"Productos de marca {brand}\")\nx.loc[x.match, [\"title\", \"brand\"]]\n",
   "execution_count": 17,
   "outputs": [
    {
     "name": "stdout",
     "text": "Productos de marca Unitec\n",
     "output_type": "stream"
    },
    {
     "output_type": "execute_result",
     "execution_count": 17,
     "data": {
      "application/vnd.deepnote.dataframe.v3+json": {
       "column_count": 2,
       "row_count": 3,
       "columns": [
        {
         "name": "title",
         "dtype": "object",
         "stats": {
          "unique_count": 3,
          "nan_count": 0,
          "categories": [
           {
            "name": "Cable Convertidor Adaptador De Hdmi A Vga",
            "count": 1
           },
           {
            "name": "Cable Convertidor Hdmi A Vga  Pc Laptop Tv Monitor 1080p",
            "count": 1
           },
           {
            "name": "Diadema Audifono Con Microfono Call Center Unitec Z500 Plug",
            "count": 1
           }
          ]
         }
        },
        {
         "name": "brand",
         "dtype": "object",
         "stats": {
          "unique_count": 1,
          "nan_count": 0,
          "categories": [
           {
            "name": "Unitec",
            "count": 3
           }
          ]
         }
        },
        {
         "name": "_deepnote_index_column",
         "dtype": "int64"
        }
       ],
       "rows": [
        {
         "title": "Cable Convertidor Adaptador De Hdmi A Vga",
         "brand": "Unitec",
         "_deepnote_index_column": 93
        },
        {
         "title": "Cable Convertidor Hdmi A Vga  Pc Laptop Tv Monitor 1080p",
         "brand": "Unitec",
         "_deepnote_index_column": 367
        },
        {
         "title": "Diadema Audifono Con Microfono Call Center Unitec Z500 Plug",
         "brand": "Unitec",
         "_deepnote_index_column": 674
        }
       ]
      },
      "text/plain": "                                                 title   brand\n93           Cable Convertidor Adaptador De Hdmi A Vga  Unitec\n367  Cable Convertidor Hdmi A Vga  Pc Laptop Tv Mon...  Unitec\n674  Diadema Audifono Con Microfono Call Center Uni...  Unitec",
      "text/html": "<div>\n<style scoped>\n    .dataframe tbody tr th:only-of-type {\n        vertical-align: middle;\n    }\n\n    .dataframe tbody tr th {\n        vertical-align: top;\n    }\n\n    .dataframe thead th {\n        text-align: right;\n    }\n</style>\n<table border=\"1\" class=\"dataframe\">\n  <thead>\n    <tr style=\"text-align: right;\">\n      <th></th>\n      <th>title</th>\n      <th>brand</th>\n    </tr>\n  </thead>\n  <tbody>\n    <tr>\n      <th>93</th>\n      <td>Cable Convertidor Adaptador De Hdmi A Vga</td>\n      <td>Unitec</td>\n    </tr>\n    <tr>\n      <th>367</th>\n      <td>Cable Convertidor Hdmi A Vga  Pc Laptop Tv Mon...</td>\n      <td>Unitec</td>\n    </tr>\n    <tr>\n      <th>674</th>\n      <td>Diadema Audifono Con Microfono Call Center Uni...</td>\n      <td>Unitec</td>\n    </tr>\n  </tbody>\n</table>\n</div>"
     },
     "metadata": {}
    }
   ]
  },
  {
   "cell_type": "markdown",
   "source": "Algoritmo planteado como solución para buscar todos los productos iguales a uno escogido:\n- Utilizando un algoritmo de vectorización, encontrar las similitudes de los títulos de productos todo el catálogo al producto escogido\n- Penalizar la similitud de productos cuya marca/dominio no coincida de forma exacta\n- Escoger un umbral de similitud para determinar si dos productos son iguales\n- Retornar los productos que están por encima de ese umbral",
   "metadata": {
    "cell_id": "335463806f40474bb8502275618a7372",
    "tags": [],
    "deepnote_app_coordinates": {
     "x": 0,
     "y": 0,
     "w": 12,
     "h": 5
    },
    "deepnote_cell_type": "markdown",
    "deepnote_cell_height": 181
   }
  },
  {
   "cell_type": "code",
   "metadata": {
    "cell_id": "00013-1698b67a-d4ce-4ed0-b1ab-265870a9edb0",
    "deepnote_to_be_reexecuted": false,
    "source_hash": "7a5728a2",
    "execution_start": 1648100814371,
    "execution_millis": 154,
    "deepnote_app_coordinates": {
     "x": 0,
     "y": 78,
     "w": 12,
     "h": 5
    },
    "is_code_hidden": true,
    "deepnote_app_is_code_hidden": true,
    "deepnote_cell_type": "code",
    "deepnote_cell_height": 350,
    "deepnote_output_heights": [
     163
    ]
   },
   "source": "def find_similar_products(\n    df: pd.DataFrame,\n    product_id: str,\n    embedding_feature=\"title_embedding\",\n    penalty_features=[\"brand\", \"domain_id\"],\n    penalty_value=0.2,\n    threshold=0.85,\n):\n    details = df.copy()\n    product = df.set_index(\"id\").loc[product_id]\n    details[\"similarity\"] = find_similarities(\n        df, product[embedding_feature], embedding_feature\n    )\n    details[\"raw_similarity\"] = details.similarity.copy()\n\n    for penalty_feature in penalty_features:\n        is_exact_match = feature_exact_match(\n            df, penalty_feature, product[penalty_feature]\n        )\n        details[f\"{penalty_feature}_penalty\"] = (\n            ~is_exact_match * penalty_value if pd.notna(product[penalty_feature]) else 0\n        )\n        details[\"similarity\"] -= details[f\"{penalty_feature}_penalty\"]\n\n    products_above_threshold = details[details[\"similarity\"] > threshold]\n    similar_products = details.loc[products_above_threshold.index]\n    return similar_products, details\n\n\nprod=\"MCO618049088\"\nprint(f\"Conjunto de productos encontrados como iguales al {prod}\")\nPENALTY_FEATURES = (\"brand\", \"domain_id\", \"model\")\nfind_similar_products(df, prod, penalty_features=PENALTY_FEATURES)[0][[\"id\", \"title\", \"domain_id\", \"brand\", \"model\", \"similarity\"]]\n",
   "execution_count": 18,
   "outputs": [
    {
     "name": "stdout",
     "text": "Conjunto de productos encontrados como iguales al MCO618049088\n",
     "output_type": "stream"
    },
    {
     "output_type": "execute_result",
     "execution_count": 18,
     "data": {
      "application/vnd.deepnote.dataframe.v3+json": {
       "column_count": 6,
       "row_count": 3,
       "columns": [
        {
         "name": "id",
         "dtype": "object",
         "stats": {
          "unique_count": 3,
          "nan_count": 0,
          "categories": [
           {
            "name": "MCO618049088",
            "count": 1
           },
           {
            "name": "MCO618050413",
            "count": 1
           },
           {
            "name": "MCO618050281",
            "count": 1
           }
          ]
         }
        },
        {
         "name": "title",
         "dtype": "object",
         "stats": {
          "unique_count": 3,
          "nan_count": 0,
          "categories": [
           {
            "name": "Audífonos Sony Zx Series Mdr-zx110 Negro",
            "count": 1
           },
           {
            "name": "Audífonos Sony Zx Series Mdr-zx110 Blanco",
            "count": 1
           },
           {
            "name": "Audífonos Sony Zx Series Mdr-zx110 Rosa",
            "count": 1
           }
          ]
         }
        },
        {
         "name": "domain_id",
         "dtype": "object",
         "stats": {
          "unique_count": 1,
          "nan_count": 0,
          "categories": [
           {
            "name": "MCO-HEADPHONES",
            "count": 3
           }
          ]
         }
        },
        {
         "name": "brand",
         "dtype": "object",
         "stats": {
          "unique_count": 1,
          "nan_count": 0,
          "categories": [
           {
            "name": "Sony",
            "count": 3
           }
          ]
         }
        },
        {
         "name": "model",
         "dtype": "object",
         "stats": {
          "unique_count": 1,
          "nan_count": 0,
          "categories": [
           {
            "name": "MDR-ZX110",
            "count": 3
           }
          ]
         }
        },
        {
         "name": "similarity",
         "dtype": "float64",
         "stats": {
          "unique_count": 3,
          "nan_count": 0,
          "min": "0.8927287692332094",
          "max": "1.0",
          "histogram": [
           {
            "bin_start": 0.8927287692332094,
            "bin_end": 0.9034558923098885,
            "count": 1
           },
           {
            "bin_start": 0.9034558923098885,
            "bin_end": 0.9141830153865675,
            "count": 0
           },
           {
            "bin_start": 0.9141830153865675,
            "bin_end": 0.9249101384632465,
            "count": 0
           },
           {
            "bin_start": 0.9249101384632465,
            "bin_end": 0.9356372615399257,
            "count": 0
           },
           {
            "bin_start": 0.9356372615399257,
            "bin_end": 0.9463643846166048,
            "count": 0
           },
           {
            "bin_start": 0.9463643846166048,
            "bin_end": 0.9570915076932838,
            "count": 0
           },
           {
            "bin_start": 0.9570915076932838,
            "bin_end": 0.9678186307699628,
            "count": 0
           },
           {
            "bin_start": 0.9678186307699628,
            "bin_end": 0.9785457538466419,
            "count": 1
           },
           {
            "bin_start": 0.9785457538466419,
            "bin_end": 0.989272876923321,
            "count": 0
           },
           {
            "bin_start": 0.989272876923321,
            "bin_end": 1,
            "count": 1
           }
          ]
         }
        },
        {
         "name": "_deepnote_index_column",
         "dtype": "int64"
        }
       ],
       "rows": [
        {
         "id": "MCO618049088",
         "title": "Audífonos Sony Zx Series Mdr-zx110 Negro",
         "domain_id": "MCO-HEADPHONES",
         "brand": "Sony",
         "model": "MDR-ZX110",
         "similarity": 1,
         "_deepnote_index_column": 0
        },
        {
         "id": "MCO618050413",
         "title": "Audífonos Sony Zx Series Mdr-zx110 Blanco",
         "domain_id": "MCO-HEADPHONES",
         "brand": "Sony",
         "model": "MDR-ZX110",
         "similarity": 0.9715816313045038,
         "_deepnote_index_column": 13
        },
        {
         "id": "MCO618050281",
         "title": "Audífonos Sony Zx Series Mdr-zx110 Rosa",
         "domain_id": "MCO-HEADPHONES",
         "brand": "Sony",
         "model": "MDR-ZX110",
         "similarity": 0.8927287692332094,
         "_deepnote_index_column": 16
        }
       ]
      },
      "text/plain": "              id                                      title       domain_id  \\\n0   MCO618049088   Audífonos Sony Zx Series Mdr-zx110 Negro  MCO-HEADPHONES   \n13  MCO618050413  Audífonos Sony Zx Series Mdr-zx110 Blanco  MCO-HEADPHONES   \n16  MCO618050281    Audífonos Sony Zx Series Mdr-zx110 Rosa  MCO-HEADPHONES   \n\n   brand      model  similarity  \n0   Sony  MDR-ZX110    1.000000  \n13  Sony  MDR-ZX110    0.971582  \n16  Sony  MDR-ZX110    0.892729  ",
      "text/html": "<div>\n<style scoped>\n    .dataframe tbody tr th:only-of-type {\n        vertical-align: middle;\n    }\n\n    .dataframe tbody tr th {\n        vertical-align: top;\n    }\n\n    .dataframe thead th {\n        text-align: right;\n    }\n</style>\n<table border=\"1\" class=\"dataframe\">\n  <thead>\n    <tr style=\"text-align: right;\">\n      <th></th>\n      <th>id</th>\n      <th>title</th>\n      <th>domain_id</th>\n      <th>brand</th>\n      <th>model</th>\n      <th>similarity</th>\n    </tr>\n  </thead>\n  <tbody>\n    <tr>\n      <th>0</th>\n      <td>MCO618049088</td>\n      <td>Audífonos Sony Zx Series Mdr-zx110 Negro</td>\n      <td>MCO-HEADPHONES</td>\n      <td>Sony</td>\n      <td>MDR-ZX110</td>\n      <td>1.000000</td>\n    </tr>\n    <tr>\n      <th>13</th>\n      <td>MCO618050413</td>\n      <td>Audífonos Sony Zx Series Mdr-zx110 Blanco</td>\n      <td>MCO-HEADPHONES</td>\n      <td>Sony</td>\n      <td>MDR-ZX110</td>\n      <td>0.971582</td>\n    </tr>\n    <tr>\n      <th>16</th>\n      <td>MCO618050281</td>\n      <td>Audífonos Sony Zx Series Mdr-zx110 Rosa</td>\n      <td>MCO-HEADPHONES</td>\n      <td>Sony</td>\n      <td>MDR-ZX110</td>\n      <td>0.892729</td>\n    </tr>\n  </tbody>\n</table>\n</div>"
     },
     "metadata": {}
    }
   ]
  },
  {
   "cell_type": "markdown",
   "source": "### Experimentación\nPara determinar el desempeño de la solución, se etiquetaron manualmente los productos iguales a 5 items del catálogo",
   "metadata": {
    "cell_id": "229359eb41764a2ba3531c91feb45064",
    "tags": [],
    "deepnote_app_coordinates": {
     "x": 0,
     "y": 0,
     "w": 12,
     "h": 5
    },
    "deepnote_cell_type": "markdown",
    "deepnote_cell_height": 100.39999389648438
   }
  },
  {
   "cell_type": "code",
   "metadata": {
    "cell_id": "00014-b093b376-ddd2-4b3d-8560-514826b6f031",
    "deepnote_to_be_reexecuted": false,
    "source_hash": "45f80d9c",
    "execution_start": 1648100814525,
    "execution_millis": 991,
    "deepnote_app_coordinates": {
     "x": 0,
     "y": 84,
     "w": 12,
     "h": 5
    },
    "is_code_hidden": true,
    "deepnote_app_is_code_hidden": true,
    "deepnote_cell_type": "code",
    "deepnote_cell_height": 124.19999694824219,
    "deepnote_output_heights": [
     40
    ]
   },
   "source": "def load_test_dataset(filename: str):\n    test_data = pd.read_excel(filename, sheet_name=[\"test_set\", \"all\"])\n    test_set, all = test_data[\"test_set\"], test_data[\"all\"]\n    return test_set, all\n\nprint(load_test_dataset(\n    \"test_electronica.xlsx\"\n)[0].test_id.unique())\n",
   "execution_count": 19,
   "outputs": [
    {
     "name": "stdout",
     "text": "['MCO618049088' 'MCO641446794' 'MCO593426721' 'MCO626370015'\n 'MCO453389071']\n",
     "output_type": "stream"
    }
   ]
  },
  {
   "cell_type": "markdown",
   "source": "Se plantea la configuración de un experimento con los siguientes parámetros:\n- Tipo de vector a utilizar (eg. Bag of Words)\n- Variable a vectorizar (eg. Title)\n- Variables a penalizar (eg. Marca, Modelo)\n- Valor de la penalización (eg. 0.1)\n- Valor del umbral (eg. 0.9)",
   "metadata": {
    "cell_id": "dfd36aa1f67347bea9280ad2d9377959",
    "tags": [],
    "deepnote_app_coordinates": {
     "x": 0,
     "y": 0,
     "w": 12,
     "h": 5
    },
    "deepnote_cell_type": "markdown",
    "deepnote_cell_height": 206.89999389648438
   }
  },
  {
   "cell_type": "code",
   "metadata": {
    "cell_id": "00015-954b1ed6-9ef5-4e7f-a5b7-e7d85e16e057",
    "deepnote_to_be_reexecuted": false,
    "source_hash": "69467ae6",
    "execution_start": 1648100815540,
    "execution_millis": 5,
    "is_code_hidden": true,
    "deepnote_cell_type": "code",
    "deepnote_cell_height": 74.80000305175781
   },
   "source": "@dataclass(frozen=True)\nclass SimilarityConfig:\n    experiment_name: str\n    test_filename: str\n    embedding_type: Type[Embedding]\n    embedding_feature: str\n    penalty_features: tuple[str]\n    penalty_value: float\n    threshold: float\n",
   "execution_count": 20,
   "outputs": []
  },
  {
   "cell_type": "code",
   "metadata": {
    "cell_id": "00016-d1b9bf63-44c0-4c35-8798-a66b7402f4e2",
    "deepnote_to_be_reexecuted": false,
    "source_hash": "bd0ac339",
    "execution_start": 1648100815555,
    "execution_millis": 7,
    "is_code_hidden": true,
    "deepnote_cell_type": "code",
    "deepnote_cell_height": 74.80000305175781,
    "deepnote_output_heights": [
     36
    ]
   },
   "source": "config = SimilarityConfig(\n    experiment_name=\"demo\",\n    test_filename=\"test_electronica.xlsx\",\n    embedding_type=BagOfWordsEmbedding,\n    embedding_feature=\"title\",\n    penalty_features=PENALTY_FEATURES,\n    penalty_value=0.05,\n    threshold=0.7,\n)",
   "execution_count": 21,
   "outputs": []
  },
  {
   "cell_type": "code",
   "metadata": {
    "cell_id": "00017-c0f73912-8e4f-41b9-b5d0-014bf91948d8",
    "deepnote_to_be_reexecuted": false,
    "source_hash": "d1b1deef",
    "execution_start": 1648100815572,
    "execution_millis": 49360,
    "is_code_hidden": true,
    "deepnote_cell_type": "code",
    "deepnote_cell_height": 74.80000305175781
   },
   "source": "@lru_cache(16)\ndef build_testing_data(test_filename, embedding_type, embedding_feature):\n    test_set, df = load_test_dataset(test_filename)\n    data = find_embeddings(df, embedding_type, [embedding_feature])\n    return test_set, data\n\n\ntest_set, data = build_testing_data(\n    config.test_filename, config.embedding_type, config.embedding_feature\n)\n",
   "execution_count": 22,
   "outputs": []
  },
  {
   "cell_type": "code",
   "metadata": {
    "cell_id": "00018-ba5568d6-d792-4728-be0c-1d6accac85a4",
    "deepnote_to_be_reexecuted": false,
    "source_hash": "f039713",
    "execution_start": 1648100864948,
    "execution_millis": 64,
    "output_cleared": true,
    "is_code_hidden": true,
    "deepnote_cell_type": "code",
    "deepnote_cell_height": 74.80000305175781,
    "deepnote_output_heights": [
     611
    ]
   },
   "source": "def test_product_matches(\n    df: pd.DataFrame, matches: pd.DataFrame, true_matches: list[str]\n):\n\n    tp = matches[matches.id.isin(true_matches)]\n    fp = matches[~matches.id.isin(true_matches)]\n    fn = df[(df.id.isin(true_matches) & (~df.id.isin(matches.id)))]\n    tn = df[(~df.id.isin(true_matches) & (~df.id.isin(matches.id)))]\n\n    return tp, fp, fn, tn\n\n\ntest_id = test_set.test_id.iloc[0]\ntm = test_set[test_set.test_id == test_id].id\nmatches, details = find_similar_products(\n    df,\n    test_id,\n    penalty_features=config.penalty_features,\n    embedding_feature=config.embedding_feature + \"_embedding\",\n    penalty_value=config.penalty_value,\n    threshold=config.threshold,\n)\n#test_product_matches(data, matches, tm)\n",
   "execution_count": 23,
   "outputs": []
  },
  {
   "cell_type": "markdown",
   "source": "Se definen las métricas a utilizar:\n- *Precision* (P): Total de *matches* correctos / Total de *matches* encontrados\n- *Recall* (R): Total de *matches* correctos / Total de *matches* reales",
   "metadata": {
    "cell_id": "582abb4c24c34ab495ad04f43b776e39",
    "tags": [],
    "deepnote_app_coordinates": {
     "x": 0,
     "y": 0,
     "w": 12,
     "h": 5
    },
    "deepnote_cell_type": "markdown",
    "deepnote_cell_height": 129.1999969482422
   }
  },
  {
   "cell_type": "code",
   "metadata": {
    "cell_id": "00019-5e3d50bb-a197-47b3-96ca-f58750665061",
    "deepnote_to_be_reexecuted": false,
    "source_hash": "cdfe01d6",
    "execution_start": 1648100865027,
    "execution_millis": 8,
    "deepnote_app_coordinates": {
     "x": 0,
     "y": 114,
     "w": 12,
     "h": 5
    },
    "is_code_hidden": true,
    "deepnote_app_is_code_hidden": true,
    "deepnote_cell_type": "code",
    "deepnote_cell_height": 105,
    "deepnote_output_heights": [
     21
    ]
   },
   "source": "def get_precision_and_recall(\n    true_positives: pd.DataFrame,\n    false_positives: pd.DataFrame,\n    false_negatives: pd.DataFrame,\n    true_negatives: pd.DataFrame,\n):\n    tp, fp, fn, tn = (\n        len(true_positives),\n        len(false_positives),\n        len(false_negatives),\n        len(true_negatives),\n    )\n    precision = tp / (tp + fp) if tp + fp > 0 else 0\n    recall = tp / (tp + fn)\n    return precision, recall\n\n\nP,R=get_precision_and_recall(*test_product_matches(data, matches, tm))\n#print(config)\nprint(f\"{P=} {R=}\")",
   "execution_count": 24,
   "outputs": [
    {
     "name": "stdout",
     "text": "P=0.15 R=1.0\n",
     "output_type": "stream"
    }
   ]
  },
  {
   "cell_type": "markdown",
   "source": "Se comprueba el desempeño de un experimento a través de estas métricas a nivel item y a nivel global:",
   "metadata": {
    "cell_id": "92b13c29f1244986904c2f2a3b63b092",
    "tags": [],
    "deepnote_app_coordinates": {
     "x": 0,
     "y": 0,
     "w": 12,
     "h": 5
    },
    "deepnote_cell_type": "markdown",
    "deepnote_cell_height": 52.399993896484375
   },
   "outputs": [],
   "execution_count": null
  },
  {
   "cell_type": "code",
   "metadata": {
    "cell_id": "00020-4d518750-2c99-4b9c-a11f-b2ee2c4a36c8",
    "deepnote_to_be_reexecuted": false,
    "source_hash": "dfe7a460",
    "execution_start": 1648100865051,
    "execution_millis": 12522,
    "deepnote_app_coordinates": {
     "x": 0,
     "y": 120,
     "w": 12,
     "h": 5
    },
    "is_code_hidden": true,
    "deepnote_app_is_code_hidden": true,
    "deepnote_cell_type": "code",
    "deepnote_cell_height": 600,
    "deepnote_output_heights": [
     null,
     611
    ]
   },
   "source": "def test_similarity_model(cfg: SimilarityConfig, verbose=True):\n\n    if verbose:\n        print(f\"building testing data for {cfg}...\")\n    test_set, data = build_testing_data(\n        cfg.test_filename, cfg.embedding_type, cfg.embedding_feature\n    )\n    test_products = test_set.test_id.unique()\n    all_cf = []\n    all_matches = []\n\n    if verbose:\n        print(\"finding similar products...\")\n    for product_id in test_products:\n        if verbose:\n            print(f\"\\ntesting {product_id}\")\n        true_matches = test_set[test_set.test_id == product_id].id\n        matches, details = find_similar_products(\n            data,\n            product_id,\n            penalty_features=cfg.penalty_features,\n            embedding_feature=cfg.embedding_feature + \"_embedding\",\n            penalty_value=cfg.penalty_value,\n            threshold=cfg.threshold,\n        )\n        confusion_matrix = test_product_matches(data, matches, true_matches)\n        precision, recall = get_precision_and_recall(*confusion_matrix)\n\n        if verbose:\n            print(f\"{precision=}\")\n            print(f\"{recall=}\")\n\n        all_cf.append(confusion_matrix)\n        all_matches.append(matches)\n\n    if verbose:\n        print(\"finished\\n\")\n\n    global_confusion_matrix = [pd.concat(df) for df in zip(*all_cf)]\n    global_precision, global_recall = get_precision_and_recall(*global_confusion_matrix)\n    global_matches = pd.concat(all_matches)\n    if verbose:\n        print(f\"{global_precision=}\")\n        print(f\"{global_recall=}\")\n\n    return global_matches, global_precision, global_recall\n\n\nconfig = SimilarityConfig(\n    experiment_name=\"bow1\",\n    test_filename=\"test_electronica.xlsx\",\n    embedding_type=BagOfWordsEmbedding,\n    embedding_feature=\"title\",\n    penalty_features=PENALTY_FEATURES,\n    penalty_value=0.15,\n    threshold=0.5,\n)\n\n_=test_similarity_model(config)\n",
   "execution_count": 25,
   "outputs": [
    {
     "name": "stdout",
     "text": "building testing data for SimilarityConfig(experiment_name='bow1', test_filename='test_electronica.xlsx', embedding_type=<class '__main__.BagOfWordsEmbedding'>, embedding_feature='title', penalty_features=('brand', 'domain_id', 'model'), penalty_value=0.15, threshold=0.5)...\nfinding similar products...\n\ntesting MCO618049088\nprecision=0.3333333333333333\nrecall=1.0\n\ntesting MCO641446794\nprecision=1.0\nrecall=1.0\n\ntesting MCO593426721\nprecision=0.7142857142857143\nrecall=0.8333333333333334\n\ntesting MCO626370015\nprecision=0.2222222222222222\nrecall=0.6666666666666666\n\ntesting MCO453389071\nprecision=0.2857142857142857\nrecall=0.6666666666666666\nfinished\n\nglobal_precision=0.3939393939393939\nglobal_recall=0.8125\n",
     "output_type": "stream"
    }
   ]
  },
  {
   "cell_type": "markdown",
   "source": "Se comparan varios experimentos determinados sobre un espacio de búsqueda para determinar la mejor configuración:",
   "metadata": {
    "cell_id": "348dd777a46d498582abb4b57e9e1cbc",
    "tags": [],
    "deepnote_app_coordinates": {
     "x": 0,
     "y": 0,
     "w": 12,
     "h": 5
    },
    "deepnote_cell_type": "markdown",
    "deepnote_cell_height": 52.399993896484375
   }
  },
  {
   "cell_type": "code",
   "metadata": {
    "cell_id": "00021-93233c1f-300a-4c9d-b4d2-35c39d5aca92",
    "deepnote_to_be_reexecuted": false,
    "source_hash": "302a53bf",
    "execution_start": 1648100877575,
    "execution_millis": 185725,
    "deepnote_app_coordinates": {
     "x": 0,
     "y": 126,
     "w": 12,
     "h": 5
    },
    "is_code_hidden": true,
    "deepnote_app_is_code_hidden": true,
    "deepnote_cell_type": "code",
    "deepnote_cell_height": 306.79998779296875,
    "deepnote_output_heights": [
     null,
     247
    ]
   },
   "source": "@dataclass\nclass ExperimentResults:\n    experiment: SimilarityConfig\n    precision: float\n    recall: float\n\n\ndef run_experiments(experiments: list[SimilarityConfig]):\n    results = []\n    for experiment in experiments:\n        _, precision, recall = test_similarity_model(experiment, verbose=False)\n        results.append(ExperimentResults(experiment, precision, recall))\n\n    return results\n\n\nTHRESHOLDS = [0.5, 0.6, 0.7, 0.8, 0.9]\nEMBEDDING_TYPES = [BagOfWordsEmbedding, TFIDFEmbedding, SpacyEmbedding]\n\nPENALTY_FEATURES = (\"brand\", \"domain_id\", \"model\")\nTEST_FILENAME = \"test_electronica.xlsx\"\nEMBEDDING_FEATURE = \"title\"\nPENALTY_VALUE = 0.15\n\nprint(f\"{PENALTY_FEATURES=}\")\nprint(f\"{PENALTY_VALUE=}\")\n\nexperiments = [\n    SimilarityConfig(\n        f\"{et.__name__} @ {th}\",TEST_FILENAME, et, EMBEDDING_FEATURE, PENALTY_FEATURES, PENALTY_VALUE, th\n    )\n    for et in EMBEDDING_TYPES\n    for th in THRESHOLDS\n]\n\nprint(f\"Ejecutando {len(experiments)} experimentos. Iterando sobre valores del tipo de vector y umbral.\")\nresults = run_experiments(experiments)\nprint(\"Finalizado\")",
   "execution_count": 26,
   "outputs": [
    {
     "name": "stdout",
     "text": "PENALTY_FEATURES=('brand', 'domain_id', 'model')\nPENALTY_VALUE=0.15\nEjecutando 15 experimentos. Iterando sobre valores del tipo de vector y umbral.\nFinalizado\n",
     "output_type": "stream"
    }
   ]
  },
  {
   "cell_type": "code",
   "source": "res=pd.DataFrame([{\"experiment\": r.experiment.experiment_name, \"precision\":r.precision, \"recall\":r.recall} for r in results])\nres[\"f1\"]=2*(res.precision*res.recall)/(res.precision+res.recall)\nres.sort_values(\"f1\", ascending=False)",
   "metadata": {
    "cell_id": "3a35bb51fbf049d4b7d4116118ba97db",
    "tags": [],
    "deepnote_app_coordinates": {
     "x": 0,
     "y": 0,
     "w": 12,
     "h": 5
    },
    "deepnote_to_be_reexecuted": false,
    "source_hash": "77fbc415",
    "execution_start": 1648101063300,
    "execution_millis": 107,
    "is_code_hidden": true,
    "deepnote_app_is_code_hidden": true,
    "deepnote_cell_type": "code",
    "deepnote_cell_height": 591.7999877929688
   },
   "outputs": [
    {
     "output_type": "execute_result",
     "execution_count": 27,
     "data": {
      "application/vnd.deepnote.dataframe.v3+json": {
       "column_count": 4,
       "row_count": 15,
       "columns": [
        {
         "name": "experiment",
         "dtype": "object",
         "stats": {
          "unique_count": 15,
          "nan_count": 0,
          "categories": [
           {
            "name": "TFIDFEmbedding @ 0.6",
            "count": 1
           },
           {
            "name": "BagOfWordsEmbedding @ 0.7",
            "count": 1
           },
           {
            "name": "13 others",
            "count": 13
           }
          ]
         }
        },
        {
         "name": "precision",
         "dtype": "float64",
         "stats": {
          "unique_count": 9,
          "nan_count": 0,
          "min": "0.20253164556962025",
          "max": "1.0",
          "histogram": [
           {
            "bin_start": 0.20253164556962025,
            "bin_end": 0.28227848101265823,
            "count": 2
           },
           {
            "bin_start": 0.28227848101265823,
            "bin_end": 0.36202531645569624,
            "count": 1
           },
           {
            "bin_start": 0.36202531645569624,
            "bin_end": 0.4417721518987342,
            "count": 1
           },
           {
            "bin_start": 0.4417721518987342,
            "bin_end": 0.5215189873417722,
            "count": 1
           },
           {
            "bin_start": 0.5215189873417722,
            "bin_end": 0.6012658227848101,
            "count": 0
           },
           {
            "bin_start": 0.6012658227848101,
            "bin_end": 0.6810126582278482,
            "count": 1
           },
           {
            "bin_start": 0.6810126582278482,
            "bin_end": 0.7607594936708861,
            "count": 1
           },
           {
            "bin_start": 0.7607594936708861,
            "bin_end": 0.8405063291139241,
            "count": 0
           },
           {
            "bin_start": 0.8405063291139241,
            "bin_end": 0.920253164556962,
            "count": 1
           },
           {
            "bin_start": 0.920253164556962,
            "bin_end": 1,
            "count": 7
           }
          ]
         }
        },
        {
         "name": "recall",
         "dtype": "float64",
         "stats": {
          "unique_count": 8,
          "nan_count": 0,
          "min": "0.3125",
          "max": "1.0",
          "histogram": [
           {
            "bin_start": 0.3125,
            "bin_end": 0.38125,
            "count": 2
           },
           {
            "bin_start": 0.38125,
            "bin_end": 0.45,
            "count": 1
           },
           {
            "bin_start": 0.45,
            "bin_end": 0.51875,
            "count": 4
           },
           {
            "bin_start": 0.51875,
            "bin_end": 0.5875,
            "count": 1
           },
           {
            "bin_start": 0.5875,
            "bin_end": 0.65625,
            "count": 0
           },
           {
            "bin_start": 0.65625,
            "bin_end": 0.7250000000000001,
            "count": 1
           },
           {
            "bin_start": 0.7250000000000001,
            "bin_end": 0.7937500000000001,
            "count": 0
           },
           {
            "bin_start": 0.7937500000000001,
            "bin_end": 0.8625,
            "count": 5
           },
           {
            "bin_start": 0.8625,
            "bin_end": 0.93125,
            "count": 0
           },
           {
            "bin_start": 0.93125,
            "bin_end": 1,
            "count": 1
           }
          ]
         }
        },
        {
         "name": "f1",
         "dtype": "float64",
         "stats": {
          "unique_count": 14,
          "nan_count": 0,
          "min": "0.3368421052631579",
          "max": "0.8387096774193549",
          "histogram": [
           {
            "bin_start": 0.3368421052631579,
            "bin_end": 0.3870288624787776,
            "count": 2
           },
           {
            "bin_start": 0.3870288624787776,
            "bin_end": 0.43721561969439726,
            "count": 1
           },
           {
            "bin_start": 0.43721561969439726,
            "bin_end": 0.487402376910017,
            "count": 1
           },
           {
            "bin_start": 0.487402376910017,
            "bin_end": 0.5375891341256367,
            "count": 1
           },
           {
            "bin_start": 0.5375891341256367,
            "bin_end": 0.5877758913412563,
            "count": 2
           },
           {
            "bin_start": 0.5877758913412563,
            "bin_end": 0.6379626485568761,
            "count": 2
           },
           {
            "bin_start": 0.6379626485568761,
            "bin_end": 0.6881494057724957,
            "count": 2
           },
           {
            "bin_start": 0.6881494057724957,
            "bin_end": 0.7383361629881154,
            "count": 1
           },
           {
            "bin_start": 0.7383361629881154,
            "bin_end": 0.7885229202037352,
            "count": 1
           },
           {
            "bin_start": 0.7885229202037352,
            "bin_end": 0.8387096774193549,
            "count": 2
           }
          ]
         }
        },
        {
         "name": "_deepnote_index_column",
         "dtype": "int64"
        }
       ],
       "rows": [
        {
         "experiment": "TFIDFEmbedding @ 0.6",
         "precision": 0.8666666666666667,
         "recall": 0.8125,
         "f1": 0.8387096774193549,
         "_deepnote_index_column": 6
        },
        {
         "experiment": "BagOfWordsEmbedding @ 0.7",
         "precision": 1,
         "recall": 0.6875,
         "f1": 0.8148148148148148,
         "_deepnote_index_column": 2
        },
        {
         "experiment": "BagOfWordsEmbedding @ 0.6",
         "precision": 0.6842105263157895,
         "recall": 0.8125,
         "f1": 0.742857142857143,
         "_deepnote_index_column": 1
        },
        {
         "experiment": "TFIDFEmbedding @ 0.7",
         "precision": 1,
         "recall": 0.5625,
         "f1": 0.72,
         "_deepnote_index_column": 7
        },
        {
         "experiment": "BagOfWordsEmbedding @ 0.8",
         "precision": 1,
         "recall": 0.5,
         "f1": 0.6666666666666666,
         "_deepnote_index_column": 3
        },
        {
         "experiment": "TFIDFEmbedding @ 0.8",
         "precision": 1,
         "recall": 0.5,
         "f1": 0.6666666666666666,
         "_deepnote_index_column": 8
        },
        {
         "experiment": "TFIDFEmbedding @ 0.5",
         "precision": 0.5,
         "recall": 0.8125,
         "f1": 0.6190476190476191,
         "_deepnote_index_column": 5
        },
        {
         "experiment": "SpacyEmbedding @ 0.9",
         "precision": 1,
         "recall": 0.4375,
         "f1": 0.6086956521739131,
         "_deepnote_index_column": 14
        },
        {
         "experiment": "SpacyEmbedding @ 0.8",
         "precision": 0.6153846153846154,
         "recall": 0.5,
         "f1": 0.5517241379310345,
         "_deepnote_index_column": 13
        },
        {
         "experiment": "BagOfWordsEmbedding @ 0.9",
         "precision": 1,
         "recall": 0.375,
         "f1": 0.5454545454545454,
         "_deepnote_index_column": 4
        }
       ]
      },
      "text/plain": "                   experiment  precision  recall        f1\n6        TFIDFEmbedding @ 0.6   0.866667  0.8125  0.838710\n2   BagOfWordsEmbedding @ 0.7   1.000000  0.6875  0.814815\n1   BagOfWordsEmbedding @ 0.6   0.684211  0.8125  0.742857\n7        TFIDFEmbedding @ 0.7   1.000000  0.5625  0.720000\n3   BagOfWordsEmbedding @ 0.8   1.000000  0.5000  0.666667\n8        TFIDFEmbedding @ 0.8   1.000000  0.5000  0.666667\n5        TFIDFEmbedding @ 0.5   0.500000  0.8125  0.619048\n14       SpacyEmbedding @ 0.9   1.000000  0.4375  0.608696\n13       SpacyEmbedding @ 0.8   0.615385  0.5000  0.551724\n4   BagOfWordsEmbedding @ 0.9   1.000000  0.3750  0.545455\n0   BagOfWordsEmbedding @ 0.5   0.393939  0.8125  0.530612\n9        TFIDFEmbedding @ 0.9   1.000000  0.3125  0.476190\n11       SpacyEmbedding @ 0.6   0.254902  0.8125  0.388060\n12       SpacyEmbedding @ 0.7   0.307692  0.5000  0.380952\n10       SpacyEmbedding @ 0.5   0.202532  1.0000  0.336842",
      "text/html": "<div>\n<style scoped>\n    .dataframe tbody tr th:only-of-type {\n        vertical-align: middle;\n    }\n\n    .dataframe tbody tr th {\n        vertical-align: top;\n    }\n\n    .dataframe thead th {\n        text-align: right;\n    }\n</style>\n<table border=\"1\" class=\"dataframe\">\n  <thead>\n    <tr style=\"text-align: right;\">\n      <th></th>\n      <th>experiment</th>\n      <th>precision</th>\n      <th>recall</th>\n      <th>f1</th>\n    </tr>\n  </thead>\n  <tbody>\n    <tr>\n      <th>6</th>\n      <td>TFIDFEmbedding @ 0.6</td>\n      <td>0.866667</td>\n      <td>0.8125</td>\n      <td>0.838710</td>\n    </tr>\n    <tr>\n      <th>2</th>\n      <td>BagOfWordsEmbedding @ 0.7</td>\n      <td>1.000000</td>\n      <td>0.6875</td>\n      <td>0.814815</td>\n    </tr>\n    <tr>\n      <th>1</th>\n      <td>BagOfWordsEmbedding @ 0.6</td>\n      <td>0.684211</td>\n      <td>0.8125</td>\n      <td>0.742857</td>\n    </tr>\n    <tr>\n      <th>7</th>\n      <td>TFIDFEmbedding @ 0.7</td>\n      <td>1.000000</td>\n      <td>0.5625</td>\n      <td>0.720000</td>\n    </tr>\n    <tr>\n      <th>3</th>\n      <td>BagOfWordsEmbedding @ 0.8</td>\n      <td>1.000000</td>\n      <td>0.5000</td>\n      <td>0.666667</td>\n    </tr>\n    <tr>\n      <th>8</th>\n      <td>TFIDFEmbedding @ 0.8</td>\n      <td>1.000000</td>\n      <td>0.5000</td>\n      <td>0.666667</td>\n    </tr>\n    <tr>\n      <th>5</th>\n      <td>TFIDFEmbedding @ 0.5</td>\n      <td>0.500000</td>\n      <td>0.8125</td>\n      <td>0.619048</td>\n    </tr>\n    <tr>\n      <th>14</th>\n      <td>SpacyEmbedding @ 0.9</td>\n      <td>1.000000</td>\n      <td>0.4375</td>\n      <td>0.608696</td>\n    </tr>\n    <tr>\n      <th>13</th>\n      <td>SpacyEmbedding @ 0.8</td>\n      <td>0.615385</td>\n      <td>0.5000</td>\n      <td>0.551724</td>\n    </tr>\n    <tr>\n      <th>4</th>\n      <td>BagOfWordsEmbedding @ 0.9</td>\n      <td>1.000000</td>\n      <td>0.3750</td>\n      <td>0.545455</td>\n    </tr>\n    <tr>\n      <th>0</th>\n      <td>BagOfWordsEmbedding @ 0.5</td>\n      <td>0.393939</td>\n      <td>0.8125</td>\n      <td>0.530612</td>\n    </tr>\n    <tr>\n      <th>9</th>\n      <td>TFIDFEmbedding @ 0.9</td>\n      <td>1.000000</td>\n      <td>0.3125</td>\n      <td>0.476190</td>\n    </tr>\n    <tr>\n      <th>11</th>\n      <td>SpacyEmbedding @ 0.6</td>\n      <td>0.254902</td>\n      <td>0.8125</td>\n      <td>0.388060</td>\n    </tr>\n    <tr>\n      <th>12</th>\n      <td>SpacyEmbedding @ 0.7</td>\n      <td>0.307692</td>\n      <td>0.5000</td>\n      <td>0.380952</td>\n    </tr>\n    <tr>\n      <th>10</th>\n      <td>SpacyEmbedding @ 0.5</td>\n      <td>0.202532</td>\n      <td>1.0000</td>\n      <td>0.336842</td>\n    </tr>\n  </tbody>\n</table>\n</div>"
     },
     "metadata": {}
    }
   ],
   "execution_count": 27
  },
  {
   "cell_type": "markdown",
   "source": "Se determina el mejor experimento como solución (hasta el momento) al problema:",
   "metadata": {
    "cell_id": "5caed89f09d74dd2a433c021e9809c26",
    "tags": [],
    "deepnote_app_coordinates": {
     "x": 0,
     "y": 0,
     "w": 12,
     "h": 5
    },
    "deepnote_cell_type": "markdown",
    "deepnote_cell_height": 52.399993896484375
   }
  },
  {
   "cell_type": "code",
   "metadata": {
    "cell_id": "00022-f94667f7-f7b4-47eb-82bd-4e01e5e36d87",
    "deepnote_to_be_reexecuted": false,
    "source_hash": "73877c09",
    "execution_start": 1648101063484,
    "execution_millis": 10680,
    "deepnote_app_coordinates": {
     "x": 0,
     "y": 132,
     "w": 12,
     "h": 5
    },
    "is_code_hidden": true,
    "deepnote_cell_type": "code",
    "deepnote_cell_height": 1147,
    "deepnote_output_heights": [
     null,
     366
    ]
   },
   "source": "best_config = SimilarityConfig(\n    experiment_name=\"TFIDFEmbedding @ 0.6\",\n    test_filename=\"test_electronica.xlsx\",\n    embedding_type=TFIDFEmbedding,\n    embedding_feature=\"title\",\n    penalty_features=(\"brand\", \"domain_id\", \"model\"),\n    penalty_value=0.15,\n    threshold=0.6,\n)\n\nmatches, precision, recall = test_similarity_model(best_config)\nmatches\n",
   "execution_count": 28,
   "outputs": [
    {
     "name": "stdout",
     "text": "building testing data for SimilarityConfig(experiment_name='TFIDFEmbedding @ 0.6', test_filename='test_electronica.xlsx', embedding_type=<class '__main__.TFIDFEmbedding'>, embedding_feature='title', penalty_features=('brand', 'domain_id', 'model'), penalty_value=0.15, threshold=0.6)...\nfinding similar products...\n\ntesting MCO618049088\nprecision=1.0\nrecall=1.0\n\ntesting MCO641446794\nprecision=1.0\nrecall=1.0\n\ntesting MCO593426721\nprecision=1.0\nrecall=0.8333333333333334\n\ntesting MCO626370015\nprecision=0.5\nrecall=0.6666666666666666\n\ntesting MCO453389071\nprecision=1.0\nrecall=0.6666666666666666\nfinished\n\nglobal_precision=0.8666666666666667\nglobal_recall=0.8125\n",
     "output_type": "stream"
    },
    {
     "output_type": "execute_result",
     "execution_count": 28,
     "data": {
      "application/vnd.deepnote.dataframe.v3+json": {
       "column_count": 12,
       "row_count": 15,
       "columns": [
        {
         "name": "id",
         "dtype": "object",
         "stats": {
          "unique_count": 15,
          "nan_count": 0,
          "categories": [
           {
            "name": "MCO618049088",
            "count": 1
           },
           {
            "name": "MCO618050413",
            "count": 1
           },
           {
            "name": "13 others",
            "count": 13
           }
          ]
         }
        },
        {
         "name": "title",
         "dtype": "object",
         "stats": {
          "unique_count": 12,
          "nan_count": 0,
          "categories": [
           {
            "name": "Cinta Led Multicolor Rgb Luz 5mts + Control + Adaptador",
            "count": 3
           },
           {
            "name": "Cinta Led Multicolor Rgb Luz 5050 5mts + Control + Adaptador",
            "count": 2
           },
           {
            "name": "10 others",
            "count": 10
           }
          ]
         }
        },
        {
         "name": "thumbnail",
         "dtype": "object",
         "stats": {
          "unique_count": 15,
          "nan_count": 0,
          "categories": [
           {
            "name": "http://http2.mlstatic.com/D_975252-MLA45258514131_032021-I.jpg",
            "count": 1
           },
           {
            "name": "http://http2.mlstatic.com/D_896816-MLA45258465398_032021-I.jpg",
            "count": 1
           },
           {
            "name": "13 others",
            "count": 13
           }
          ]
         }
        },
        {
         "name": "domain_id",
         "dtype": "object",
         "stats": {
          "unique_count": 4,
          "nan_count": 0,
          "categories": [
           {
            "name": "MCO-LED_CHIPS",
            "count": 5
           },
           {
            "name": "MCO-HEADPHONES",
            "count": 4
           },
           {
            "name": "2 others",
            "count": 6
           }
          ]
         }
        },
        {
         "name": "brand",
         "dtype": "object",
         "stats": {
          "unique_count": 9,
          "nan_count": 1,
          "categories": [
           {
            "name": "Google",
            "count": 4
           },
           {
            "name": "8 others",
            "count": 10
           },
           {
            "name": "Missing",
            "count": 1
           }
          ]
         }
        },
        {
         "name": "model",
         "dtype": "object",
         "stats": {
          "unique_count": 11,
          "nan_count": 0,
          "categories": [
           {
            "name": "MDR-ZX110",
            "count": 3
           },
           {
            "name": "Cinta led Multicolor RGB",
            "count": 2
           },
           {
            "name": "9 others",
            "count": 10
           }
          ]
         }
        },
        {
         "name": "title_embedding",
         "dtype": "object",
         "stats": {
          "unique_count": 15,
          "nan_count": 0,
          "categories": [
           {
            "name": "('Cinta', 'Led', 'Multicolor', 'Rgb', 'Luz', '5mts', '+', 'Control', '+', 'Adaptador')",
            "count": 3
           },
           {
            "name": "('Cinta', 'Led', 'Multicolor', 'Rgb', 'Luz', '5050', '5mts', '+', 'Control', '+', 'Adaptador')",
            "count": 2
           },
           {
            "name": "9 others",
            "count": 10
           }
          ]
         }
        },
        {
         "name": "similarity",
         "dtype": "float64",
         "stats": {
          "unique_count": 10,
          "nan_count": 0,
          "min": "0.6366433232560651",
          "max": "1.0000000000000002",
          "histogram": [
           {
            "bin_start": 0.6366433232560651,
            "bin_end": 0.6729789909304587,
            "count": 3
           },
           {
            "bin_start": 0.6729789909304587,
            "bin_end": 0.7093146586048521,
            "count": 4
           },
           {
            "bin_start": 0.7093146586048521,
            "bin_end": 0.7456503262792457,
            "count": 0
           },
           {
            "bin_start": 0.7456503262792457,
            "bin_end": 0.7819859939536391,
            "count": 0
           },
           {
            "bin_start": 0.7819859939536391,
            "bin_end": 0.8183216616280327,
            "count": 0
           },
           {
            "bin_start": 0.8183216616280327,
            "bin_end": 0.8546573293024262,
            "count": 1
           },
           {
            "bin_start": 0.8546573293024262,
            "bin_end": 0.8909929969768198,
            "count": 1
           },
           {
            "bin_start": 0.8909929969768198,
            "bin_end": 0.9273286646512132,
            "count": 1
           },
           {
            "bin_start": 0.9273286646512132,
            "bin_end": 0.9636643323256067,
            "count": 0
           },
           {
            "bin_start": 0.9636643323256067,
            "bin_end": 1.0000000000000002,
            "count": 5
           }
          ]
         }
        },
        {
         "name": "raw_similarity",
         "dtype": "float64",
         "stats": {
          "unique_count": 8,
          "nan_count": 0,
          "min": "0.8067662375109411",
          "max": "1.0000000000000002",
          "histogram": [
           {
            "bin_start": 0.8067662375109411,
            "bin_end": 0.826089613759847,
            "count": 1
           },
           {
            "bin_start": 0.826089613759847,
            "bin_end": 0.8454129900087529,
            "count": 2
           },
           {
            "bin_start": 0.8454129900087529,
            "bin_end": 0.8647363662576588,
            "count": 0
           },
           {
            "bin_start": 0.8647363662576588,
            "bin_end": 0.8840597425065647,
            "count": 1
           },
           {
            "bin_start": 0.8840597425065647,
            "bin_end": 0.9033831187554706,
            "count": 1
           },
           {
            "bin_start": 0.9033831187554706,
            "bin_end": 0.9227064950043766,
            "count": 0
           },
           {
            "bin_start": 0.9227064950043766,
            "bin_end": 0.9420298712532825,
            "count": 2
           },
           {
            "bin_start": 0.9420298712532825,
            "bin_end": 0.9613532475021884,
            "count": 0
           },
           {
            "bin_start": 0.9613532475021884,
            "bin_end": 0.9806766237510943,
            "count": 0
           },
           {
            "bin_start": 0.9806766237510943,
            "bin_end": 1.0000000000000002,
            "count": 8
           }
          ]
         }
        },
        {
         "name": "brand_penalty",
         "dtype": "float64",
         "stats": {
          "unique_count": 2,
          "nan_count": 0,
          "min": "0.0",
          "max": "0.15",
          "histogram": [
           {
            "bin_start": 0,
            "bin_end": 0.015,
            "count": 10
           },
           {
            "bin_start": 0.015,
            "bin_end": 0.03,
            "count": 0
           },
           {
            "bin_start": 0.03,
            "bin_end": 0.045,
            "count": 0
           },
           {
            "bin_start": 0.045,
            "bin_end": 0.06,
            "count": 0
           },
           {
            "bin_start": 0.06,
            "bin_end": 0.075,
            "count": 0
           },
           {
            "bin_start": 0.075,
            "bin_end": 0.09,
            "count": 0
           },
           {
            "bin_start": 0.09,
            "bin_end": 0.105,
            "count": 0
           },
           {
            "bin_start": 0.105,
            "bin_end": 0.12,
            "count": 0
           },
           {
            "bin_start": 0.12,
            "bin_end": 0.135,
            "count": 0
           },
           {
            "bin_start": 0.135,
            "bin_end": 0.15,
            "count": 5
           }
          ]
         }
        },
        {
         "name": "domain_id_penalty",
         "dtype": "float64",
         "stats": {
          "unique_count": 1,
          "nan_count": 0,
          "min": "0.0",
          "max": "0.0",
          "histogram": [
           {
            "bin_start": -0.5,
            "bin_end": -0.4,
            "count": 0
           },
           {
            "bin_start": -0.4,
            "bin_end": -0.3,
            "count": 0
           },
           {
            "bin_start": -0.3,
            "bin_end": -0.19999999999999996,
            "count": 0
           },
           {
            "bin_start": -0.19999999999999996,
            "bin_end": -0.09999999999999998,
            "count": 0
           },
           {
            "bin_start": -0.09999999999999998,
            "bin_end": 0,
            "count": 0
           },
           {
            "bin_start": 0,
            "bin_end": 0.10000000000000009,
            "count": 15
           },
           {
            "bin_start": 0.10000000000000009,
            "bin_end": 0.20000000000000007,
            "count": 0
           },
           {
            "bin_start": 0.20000000000000007,
            "bin_end": 0.30000000000000004,
            "count": 0
           },
           {
            "bin_start": 0.30000000000000004,
            "bin_end": 0.4,
            "count": 0
           },
           {
            "bin_start": 0.4,
            "bin_end": 0.5,
            "count": 0
           }
          ]
         }
        },
        {
         "name": "model_penalty",
         "dtype": "float64",
         "stats": {
          "unique_count": 2,
          "nan_count": 0,
          "min": "0.0",
          "max": "0.15",
          "histogram": [
           {
            "bin_start": 0,
            "bin_end": 0.015,
            "count": 8
           },
           {
            "bin_start": 0.015,
            "bin_end": 0.03,
            "count": 0
           },
           {
            "bin_start": 0.03,
            "bin_end": 0.045,
            "count": 0
           },
           {
            "bin_start": 0.045,
            "bin_end": 0.06,
            "count": 0
           },
           {
            "bin_start": 0.06,
            "bin_end": 0.075,
            "count": 0
           },
           {
            "bin_start": 0.075,
            "bin_end": 0.09,
            "count": 0
           },
           {
            "bin_start": 0.09,
            "bin_end": 0.105,
            "count": 0
           },
           {
            "bin_start": 0.105,
            "bin_end": 0.12,
            "count": 0
           },
           {
            "bin_start": 0.12,
            "bin_end": 0.135,
            "count": 0
           },
           {
            "bin_start": 0.135,
            "bin_end": 0.15,
            "count": 7
           }
          ]
         }
        },
        {
         "name": "_deepnote_index_column",
         "dtype": "int64"
        }
       ],
       "rows": [
        {
         "id": "MCO618049088",
         "title": "Audífonos Sony Zx Series Mdr-zx110 Negro",
         "thumbnail": "http://http2.mlstatic.com/D_975252-MLA45258514131_032021-I.jpg",
         "domain_id": "MCO-HEADPHONES",
         "brand": "Sony",
         "model": "MDR-ZX110",
         "title_embedding": "('Audífonos', 'Sony', 'Zx', 'Series', 'Mdr-zx110', 'Negro')",
         "similarity": 1,
         "raw_similarity": 1,
         "brand_penalty": 0,
         "domain_id_penalty": 0,
         "model_penalty": 0,
         "_deepnote_index_column": 0
        },
        {
         "id": "MCO618050413",
         "title": "Audífonos Sony Zx Series Mdr-zx110 Blanco",
         "thumbnail": "http://http2.mlstatic.com/D_896816-MLA45258465398_032021-I.jpg",
         "domain_id": "MCO-HEADPHONES",
         "brand": "Sony",
         "model": "MDR-ZX110",
         "title_embedding": "('Audífonos', 'Sony', 'Zx', 'Series', 'Mdr-zx110', 'Blanco')",
         "similarity": 0.8839116293097637,
         "raw_similarity": 0.8839116293097637,
         "brand_penalty": 0,
         "domain_id_penalty": 0,
         "model_penalty": 0,
         "_deepnote_index_column": 14
        },
        {
         "id": "MCO618050281",
         "title": "Audífonos Sony Zx Series Mdr-zx110 Rosa",
         "thumbnail": "http://http2.mlstatic.com/D_639965-MLA45258510138_032021-I.jpg",
         "domain_id": "MCO-HEADPHONES",
         "brand": "Sony",
         "model": "MDR-ZX110",
         "title_embedding": "('Audífonos', 'Sony', 'Zx', 'Series', 'Mdr-zx110', 'Rosa')",
         "similarity": 0.8316605761204428,
         "raw_similarity": 0.8316605761204428,
         "brand_penalty": 0,
         "domain_id_penalty": 0,
         "model_penalty": 0,
         "_deepnote_index_column": 16
        },
        {
         "id": "MCO641446794",
         "title": "Audífonos Audio-technica M-series Ath-m30x Negro",
         "thumbnail": "http://http2.mlstatic.com/D_669027-MLA45258905705_032021-I.jpg",
         "domain_id": "MCO-HEADPHONES",
         "brand": "Audio-Technica",
         "model": "ATH-M30x",
         "title_embedding": "('Audífonos', 'Audio-technica', 'M-series', 'Ath-m30x', 'Negro')",
         "similarity": 1,
         "raw_similarity": 1,
         "brand_penalty": 0,
         "domain_id_penalty": 0,
         "model_penalty": 0,
         "_deepnote_index_column": 92
        },
        {
         "id": "MCO593426721",
         "title": "Cinta Led Multicolor Rgb Luz 5mts + Control + Adaptador",
         "thumbnail": "http://http2.mlstatic.com/D_892089-MCO44006453797_112020-O.jpg",
         "domain_id": "MCO-LED_CHIPS",
         "brand": "RGB 5050",
         "model": "RGB 5050",
         "title_embedding": "('Cinta', 'Led', 'Multicolor', 'Rgb', 'Luz', '5mts', '+', 'Control', '+', 'Adaptador')",
         "similarity": 1,
         "raw_similarity": 1,
         "brand_penalty": 0,
         "domain_id_penalty": 0,
         "model_penalty": 0,
         "_deepnote_index_column": 46
        },
        {
         "id": "MCO607187019",
         "title": "Cinta Led Multicolor Rgb Luz 5mts + Control + Adaptador",
         "thumbnail": "http://http2.mlstatic.com/D_691827-MCO45442068331_042021-O.jpg",
         "domain_id": "MCO-LED_CHIPS",
         "brand": "Osblack",
         "model": "Led",
         "title_embedding": "('Cinta', 'Led', 'Multicolor', 'Rgb', 'Luz', '5mts', '+', 'Control', '+', 'Adaptador')",
         "similarity": 0.7,
         "raw_similarity": 1,
         "brand_penalty": 0.15,
         "domain_id_penalty": 0,
         "model_penalty": 0.15,
         "_deepnote_index_column": 73
        },
        {
         "id": "MCO623410124",
         "title": "Cinta Led Multicolor Rgb Luz 5050 5mts + Control + Adaptador",
         "thumbnail": "http://http2.mlstatic.com/D_950823-MCO45377335858_032021-O.jpg",
         "domain_id": "MCO-LED_CHIPS",
         "brand": "Comercializadora Nápoles",
         "model": "Cinta led Multicolor RGB",
         "title_embedding": "('Cinta', 'Led', 'Multicolor', 'Rgb', 'Luz', '5050', '5mts', '+', 'Control', '+', 'Adaptador')",
         "similarity": 0.6366433232560651,
         "raw_similarity": 0.9366433232560651,
         "brand_penalty": 0.15,
         "domain_id_penalty": 0,
         "model_penalty": 0.15,
         "_deepnote_index_column": 300
        },
        {
         "id": "MCO621196527",
         "title": "Cinta Led Multicolor Rgb Luz 5050 5mts + Control + Adaptador",
         "thumbnail": "http://http2.mlstatic.com/D_964375-MCO45828010393_052021-O.jpg",
         "domain_id": "MCO-LED_CHIPS",
         "brand": "nan",
         "model": "Cinta led Multicolor RGB",
         "title_embedding": "('Cinta', 'Led', 'Multicolor', 'Rgb', 'Luz', '5050', '5mts', '+', 'Control', '+', 'Adaptador')",
         "similarity": 0.6366433232560651,
         "raw_similarity": 0.9366433232560651,
         "brand_penalty": 0.15,
         "domain_id_penalty": 0,
         "model_penalty": 0.15,
         "_deepnote_index_column": 524
        },
        {
         "id": "MCO856218109",
         "title": "Cinta Led Multicolor Rgb Luz 5mts + Control + Adaptador",
         "thumbnail": "http://http2.mlstatic.com/D_700055-MCO49035786987_022022-O.jpg",
         "domain_id": "MCO-LED_CHIPS",
         "brand": "TecnoNovedadesCO",
         "model": "CLRGB060TN",
         "title_embedding": "('Cinta', 'Led', 'Multicolor', 'Rgb', 'Luz', '5mts', '+', 'Control', '+', 'Adaptador')",
         "similarity": 0.7,
         "raw_similarity": 1,
         "brand_penalty": 0.15,
         "domain_id_penalty": 0,
         "model_penalty": 0.15,
         "_deepnote_index_column": 977
        },
        {
         "id": "MCO626370015",
         "title": "Google Nest Mini 2nd Gen Con Asistente Virtual Google Assistant Charcoal 110v/220v",
         "thumbnail": "http://http2.mlstatic.com/D_738549-MLA45993657459_052021-I.jpg",
         "domain_id": "MCO-SMART_SPEAKERS",
         "brand": "Google",
         "model": "Nest Mini 2nd Gen",
         "title_embedding": "('Google', 'Nest', 'Mini', '2nd', 'Gen', 'Asistente', 'Virtual', 'Google', 'Assistant', 'Charcoal', '110v/220v')",
         "similarity": 1,
         "raw_similarity": 1,
         "brand_penalty": 0,
         "domain_id_penalty": 0,
         "model_penalty": 0,
         "_deepnote_index_column": 58
        }
       ]
      },
      "text/plain": "               id                                              title  \\\n0    MCO618049088           Audífonos Sony Zx Series Mdr-zx110 Negro   \n14   MCO618050413          Audífonos Sony Zx Series Mdr-zx110 Blanco   \n16   MCO618050281            Audífonos Sony Zx Series Mdr-zx110 Rosa   \n92   MCO641446794   Audífonos Audio-technica M-series Ath-m30x Negro   \n46   MCO593426721  Cinta Led Multicolor Rgb Luz 5mts + Control + ...   \n73   MCO607187019  Cinta Led Multicolor Rgb Luz 5mts + Control + ...   \n300  MCO623410124  Cinta Led Multicolor Rgb Luz 5050 5mts + Contr...   \n524  MCO621196527  Cinta Led Multicolor Rgb Luz 5050 5mts + Contr...   \n977  MCO856218109  Cinta Led Multicolor Rgb Luz 5mts + Control + ...   \n58   MCO626370015  Google Nest Mini 2nd Gen Con Asistente Virtual...   \n81   MCO833434422  Google Nest Hub 2nd Gen Con Asistente Virtual ...   \n111  MCO853335104  Google Nest Mini 2nd Gen Con Asistente Virtual...   \n482  MCO863514073  Google Nest Audio Con Asistente Virtual Google...   \n294  MCO453389071  Cable Hdmi 5 Metros Doble Filtro Mallado Punta...   \n516  MCO555797022  Cable Hdmi 5 Metros Doble Filtro Mallado Punta...   \n\n                                             thumbnail  \\\n0    http://http2.mlstatic.com/D_975252-MLA45258514...   \n14   http://http2.mlstatic.com/D_896816-MLA45258465...   \n16   http://http2.mlstatic.com/D_639965-MLA45258510...   \n92   http://http2.mlstatic.com/D_669027-MLA45258905...   \n46   http://http2.mlstatic.com/D_892089-MCO44006453...   \n73   http://http2.mlstatic.com/D_691827-MCO45442068...   \n300  http://http2.mlstatic.com/D_950823-MCO45377335...   \n524  http://http2.mlstatic.com/D_964375-MCO45828010...   \n977  http://http2.mlstatic.com/D_700055-MCO49035786...   \n58   http://http2.mlstatic.com/D_738549-MLA45993657...   \n81   http://http2.mlstatic.com/D_876676-MLA48754511...   \n111  http://http2.mlstatic.com/D_820774-MLA45993657...   \n482  http://http2.mlstatic.com/D_655443-MLA45880435...   \n294  http://http2.mlstatic.com/D_885979-MCO48754809...   \n516  http://http2.mlstatic.com/D_895108-MCO41065872...   \n\n                                   domain_id                     brand  \\\n0                             MCO-HEADPHONES                      Sony   \n14                            MCO-HEADPHONES                      Sony   \n16                            MCO-HEADPHONES                      Sony   \n92                            MCO-HEADPHONES            Audio-Technica   \n46                             MCO-LED_CHIPS                  RGB 5050   \n73                             MCO-LED_CHIPS                   Osblack   \n300                            MCO-LED_CHIPS  Comercializadora Nápoles   \n524                            MCO-LED_CHIPS                       NaN   \n977                            MCO-LED_CHIPS          TecnoNovedadesCO   \n58                        MCO-SMART_SPEAKERS                    Google   \n81                        MCO-SMART_SPEAKERS                    Google   \n111                       MCO-SMART_SPEAKERS                    Google   \n482                       MCO-SMART_SPEAKERS                    Google   \n294  MCO-AUDIO_AND_VIDEO_CABLES_AND_ADAPTERS                      hdmi   \n516  MCO-AUDIO_AND_VIDEO_CABLES_AND_ADAPTERS                    Pemiun   \n\n                        model  \\\n0                   MDR-ZX110   \n14                  MDR-ZX110   \n16                  MDR-ZX110   \n92                   ATH-M30x   \n46                   RGB 5050   \n73                        Led   \n300  Cinta led Multicolor RGB   \n524  Cinta led Multicolor RGB   \n977                CLRGB060TN   \n58          Nest Mini 2nd Gen   \n81           Nest Hub 2nd Gen   \n111         Nest Mini 2nd Gen   \n482                Nest Audio   \n294                  5 metros   \n516                  HDMI 5MT   \n\n                                       title_embedding  similarity  \\\n0    ('Audífonos', 'Sony', 'Zx', 'Series', 'Mdr-zx1...    1.000000   \n14   ('Audífonos', 'Sony', 'Zx', 'Series', 'Mdr-zx1...    0.883912   \n16   ('Audífonos', 'Sony', 'Zx', 'Series', 'Mdr-zx1...    0.831661   \n92   ('Audífonos', 'Audio-technica', 'M-series', 'A...    1.000000   \n46   ('Cinta', 'Led', 'Multicolor', 'Rgb', 'Luz', '...    1.000000   \n73   ('Cinta', 'Led', 'Multicolor', 'Rgb', 'Luz', '...    0.700000   \n300  ('Cinta', 'Led', 'Multicolor', 'Rgb', 'Luz', '...    0.636643   \n524  ('Cinta', 'Led', 'Multicolor', 'Rgb', 'Luz', '...    0.636643   \n977  ('Cinta', 'Led', 'Multicolor', 'Rgb', 'Luz', '...    0.700000   \n58   ('Google', 'Nest', 'Mini', '2nd', 'Gen', 'Asis...    1.000000   \n81   ('Google', 'Nest', 'Hub', '2nd', 'Gen', 'Asist...    0.656766   \n111  ('Google', 'Nest', 'Mini', '2nd', 'Gen', 'Asis...    0.891980   \n482  ('Google', 'Nest', 'Audio', 'Asistente', 'Virt...    0.690965   \n294  ('Cable', 'Hdmi', '5', 'Metros', 'Doble', 'Fil...    1.000000   \n516  ('Cable', 'Hdmi', '5', 'Metros', 'Doble', 'Fil...    0.700000   \n\n     raw_similarity  brand_penalty  domain_id_penalty  model_penalty  \n0          1.000000           0.00                0.0           0.00  \n14         0.883912           0.00                0.0           0.00  \n16         0.831661           0.00                0.0           0.00  \n92         1.000000           0.00                0.0           0.00  \n46         1.000000           0.00                0.0           0.00  \n73         1.000000           0.15                0.0           0.15  \n300        0.936643           0.15                0.0           0.15  \n524        0.936643           0.15                0.0           0.15  \n977        1.000000           0.15                0.0           0.15  \n58         1.000000           0.00                0.0           0.00  \n81         0.806766           0.00                0.0           0.15  \n111        0.891980           0.00                0.0           0.00  \n482        0.840965           0.00                0.0           0.15  \n294        1.000000           0.00                0.0           0.00  \n516        1.000000           0.15                0.0           0.15  ",
      "text/html": "<div>\n<style scoped>\n    .dataframe tbody tr th:only-of-type {\n        vertical-align: middle;\n    }\n\n    .dataframe tbody tr th {\n        vertical-align: top;\n    }\n\n    .dataframe thead th {\n        text-align: right;\n    }\n</style>\n<table border=\"1\" class=\"dataframe\">\n  <thead>\n    <tr style=\"text-align: right;\">\n      <th></th>\n      <th>id</th>\n      <th>title</th>\n      <th>thumbnail</th>\n      <th>domain_id</th>\n      <th>brand</th>\n      <th>model</th>\n      <th>title_embedding</th>\n      <th>similarity</th>\n      <th>raw_similarity</th>\n      <th>brand_penalty</th>\n      <th>domain_id_penalty</th>\n      <th>model_penalty</th>\n    </tr>\n  </thead>\n  <tbody>\n    <tr>\n      <th>0</th>\n      <td>MCO618049088</td>\n      <td>Audífonos Sony Zx Series Mdr-zx110 Negro</td>\n      <td>http://http2.mlstatic.com/D_975252-MLA45258514...</td>\n      <td>MCO-HEADPHONES</td>\n      <td>Sony</td>\n      <td>MDR-ZX110</td>\n      <td>('Audífonos', 'Sony', 'Zx', 'Series', 'Mdr-zx1...</td>\n      <td>1.000000</td>\n      <td>1.000000</td>\n      <td>0.00</td>\n      <td>0.0</td>\n      <td>0.00</td>\n    </tr>\n    <tr>\n      <th>14</th>\n      <td>MCO618050413</td>\n      <td>Audífonos Sony Zx Series Mdr-zx110 Blanco</td>\n      <td>http://http2.mlstatic.com/D_896816-MLA45258465...</td>\n      <td>MCO-HEADPHONES</td>\n      <td>Sony</td>\n      <td>MDR-ZX110</td>\n      <td>('Audífonos', 'Sony', 'Zx', 'Series', 'Mdr-zx1...</td>\n      <td>0.883912</td>\n      <td>0.883912</td>\n      <td>0.00</td>\n      <td>0.0</td>\n      <td>0.00</td>\n    </tr>\n    <tr>\n      <th>16</th>\n      <td>MCO618050281</td>\n      <td>Audífonos Sony Zx Series Mdr-zx110 Rosa</td>\n      <td>http://http2.mlstatic.com/D_639965-MLA45258510...</td>\n      <td>MCO-HEADPHONES</td>\n      <td>Sony</td>\n      <td>MDR-ZX110</td>\n      <td>('Audífonos', 'Sony', 'Zx', 'Series', 'Mdr-zx1...</td>\n      <td>0.831661</td>\n      <td>0.831661</td>\n      <td>0.00</td>\n      <td>0.0</td>\n      <td>0.00</td>\n    </tr>\n    <tr>\n      <th>92</th>\n      <td>MCO641446794</td>\n      <td>Audífonos Audio-technica M-series Ath-m30x Negro</td>\n      <td>http://http2.mlstatic.com/D_669027-MLA45258905...</td>\n      <td>MCO-HEADPHONES</td>\n      <td>Audio-Technica</td>\n      <td>ATH-M30x</td>\n      <td>('Audífonos', 'Audio-technica', 'M-series', 'A...</td>\n      <td>1.000000</td>\n      <td>1.000000</td>\n      <td>0.00</td>\n      <td>0.0</td>\n      <td>0.00</td>\n    </tr>\n    <tr>\n      <th>46</th>\n      <td>MCO593426721</td>\n      <td>Cinta Led Multicolor Rgb Luz 5mts + Control + ...</td>\n      <td>http://http2.mlstatic.com/D_892089-MCO44006453...</td>\n      <td>MCO-LED_CHIPS</td>\n      <td>RGB 5050</td>\n      <td>RGB 5050</td>\n      <td>('Cinta', 'Led', 'Multicolor', 'Rgb', 'Luz', '...</td>\n      <td>1.000000</td>\n      <td>1.000000</td>\n      <td>0.00</td>\n      <td>0.0</td>\n      <td>0.00</td>\n    </tr>\n    <tr>\n      <th>73</th>\n      <td>MCO607187019</td>\n      <td>Cinta Led Multicolor Rgb Luz 5mts + Control + ...</td>\n      <td>http://http2.mlstatic.com/D_691827-MCO45442068...</td>\n      <td>MCO-LED_CHIPS</td>\n      <td>Osblack</td>\n      <td>Led</td>\n      <td>('Cinta', 'Led', 'Multicolor', 'Rgb', 'Luz', '...</td>\n      <td>0.700000</td>\n      <td>1.000000</td>\n      <td>0.15</td>\n      <td>0.0</td>\n      <td>0.15</td>\n    </tr>\n    <tr>\n      <th>300</th>\n      <td>MCO623410124</td>\n      <td>Cinta Led Multicolor Rgb Luz 5050 5mts + Contr...</td>\n      <td>http://http2.mlstatic.com/D_950823-MCO45377335...</td>\n      <td>MCO-LED_CHIPS</td>\n      <td>Comercializadora Nápoles</td>\n      <td>Cinta led Multicolor RGB</td>\n      <td>('Cinta', 'Led', 'Multicolor', 'Rgb', 'Luz', '...</td>\n      <td>0.636643</td>\n      <td>0.936643</td>\n      <td>0.15</td>\n      <td>0.0</td>\n      <td>0.15</td>\n    </tr>\n    <tr>\n      <th>524</th>\n      <td>MCO621196527</td>\n      <td>Cinta Led Multicolor Rgb Luz 5050 5mts + Contr...</td>\n      <td>http://http2.mlstatic.com/D_964375-MCO45828010...</td>\n      <td>MCO-LED_CHIPS</td>\n      <td>NaN</td>\n      <td>Cinta led Multicolor RGB</td>\n      <td>('Cinta', 'Led', 'Multicolor', 'Rgb', 'Luz', '...</td>\n      <td>0.636643</td>\n      <td>0.936643</td>\n      <td>0.15</td>\n      <td>0.0</td>\n      <td>0.15</td>\n    </tr>\n    <tr>\n      <th>977</th>\n      <td>MCO856218109</td>\n      <td>Cinta Led Multicolor Rgb Luz 5mts + Control + ...</td>\n      <td>http://http2.mlstatic.com/D_700055-MCO49035786...</td>\n      <td>MCO-LED_CHIPS</td>\n      <td>TecnoNovedadesCO</td>\n      <td>CLRGB060TN</td>\n      <td>('Cinta', 'Led', 'Multicolor', 'Rgb', 'Luz', '...</td>\n      <td>0.700000</td>\n      <td>1.000000</td>\n      <td>0.15</td>\n      <td>0.0</td>\n      <td>0.15</td>\n    </tr>\n    <tr>\n      <th>58</th>\n      <td>MCO626370015</td>\n      <td>Google Nest Mini 2nd Gen Con Asistente Virtual...</td>\n      <td>http://http2.mlstatic.com/D_738549-MLA45993657...</td>\n      <td>MCO-SMART_SPEAKERS</td>\n      <td>Google</td>\n      <td>Nest Mini 2nd Gen</td>\n      <td>('Google', 'Nest', 'Mini', '2nd', 'Gen', 'Asis...</td>\n      <td>1.000000</td>\n      <td>1.000000</td>\n      <td>0.00</td>\n      <td>0.0</td>\n      <td>0.00</td>\n    </tr>\n    <tr>\n      <th>81</th>\n      <td>MCO833434422</td>\n      <td>Google Nest Hub 2nd Gen Con Asistente Virtual ...</td>\n      <td>http://http2.mlstatic.com/D_876676-MLA48754511...</td>\n      <td>MCO-SMART_SPEAKERS</td>\n      <td>Google</td>\n      <td>Nest Hub 2nd Gen</td>\n      <td>('Google', 'Nest', 'Hub', '2nd', 'Gen', 'Asist...</td>\n      <td>0.656766</td>\n      <td>0.806766</td>\n      <td>0.00</td>\n      <td>0.0</td>\n      <td>0.15</td>\n    </tr>\n    <tr>\n      <th>111</th>\n      <td>MCO853335104</td>\n      <td>Google Nest Mini 2nd Gen Con Asistente Virtual...</td>\n      <td>http://http2.mlstatic.com/D_820774-MLA45993657...</td>\n      <td>MCO-SMART_SPEAKERS</td>\n      <td>Google</td>\n      <td>Nest Mini 2nd Gen</td>\n      <td>('Google', 'Nest', 'Mini', '2nd', 'Gen', 'Asis...</td>\n      <td>0.891980</td>\n      <td>0.891980</td>\n      <td>0.00</td>\n      <td>0.0</td>\n      <td>0.00</td>\n    </tr>\n    <tr>\n      <th>482</th>\n      <td>MCO863514073</td>\n      <td>Google Nest Audio Con Asistente Virtual Google...</td>\n      <td>http://http2.mlstatic.com/D_655443-MLA45880435...</td>\n      <td>MCO-SMART_SPEAKERS</td>\n      <td>Google</td>\n      <td>Nest Audio</td>\n      <td>('Google', 'Nest', 'Audio', 'Asistente', 'Virt...</td>\n      <td>0.690965</td>\n      <td>0.840965</td>\n      <td>0.00</td>\n      <td>0.0</td>\n      <td>0.15</td>\n    </tr>\n    <tr>\n      <th>294</th>\n      <td>MCO453389071</td>\n      <td>Cable Hdmi 5 Metros Doble Filtro Mallado Punta...</td>\n      <td>http://http2.mlstatic.com/D_885979-MCO48754809...</td>\n      <td>MCO-AUDIO_AND_VIDEO_CABLES_AND_ADAPTERS</td>\n      <td>hdmi</td>\n      <td>5 metros</td>\n      <td>('Cable', 'Hdmi', '5', 'Metros', 'Doble', 'Fil...</td>\n      <td>1.000000</td>\n      <td>1.000000</td>\n      <td>0.00</td>\n      <td>0.0</td>\n      <td>0.00</td>\n    </tr>\n    <tr>\n      <th>516</th>\n      <td>MCO555797022</td>\n      <td>Cable Hdmi 5 Metros Doble Filtro Mallado Punta...</td>\n      <td>http://http2.mlstatic.com/D_895108-MCO41065872...</td>\n      <td>MCO-AUDIO_AND_VIDEO_CABLES_AND_ADAPTERS</td>\n      <td>Pemiun</td>\n      <td>HDMI 5MT</td>\n      <td>('Cable', 'Hdmi', '5', 'Metros', 'Doble', 'Fil...</td>\n      <td>0.700000</td>\n      <td>1.000000</td>\n      <td>0.15</td>\n      <td>0.0</td>\n      <td>0.15</td>\n    </tr>\n  </tbody>\n</table>\n</div>"
     },
     "metadata": {}
    }
   ]
  },
  {
   "cell_type": "markdown",
   "source": "### Conclusiones \n\n- Claramente la calidad del modelo solución puede mejorar muchísimo.\n- Vale la pena determinar si para este problema me importa más la *precision* o el *recall* y optimizar sobre esta variable.\n- Entender si hay algún patrón en los casos donde se equivoca el algoritmo\n- Extender el set de pruebas para obtener resultados de desempeño significativos\n- Extender las pruebas a otras categorías\n- Intentar con algunas de las ideas alternativas planteadas durante esta presentación\n- Intentar con diferentes variables que no se probaron (eg. Color, # Unidades en paquete, Tamaños)\n- Integrar este sistema al marketplace a través de un servicio web (probablemente)\n- Encontrar métricas para determinar el *usefulness* del proyecto. (eg. ¿sí está agregando valor?)\n- Optimizar la velocidad de inferencia hasta el punto adecuado",
   "metadata": {
    "cell_id": "4dffb1b57c7e462f87a15bc9cb52b2a9",
    "tags": [],
    "deepnote_app_coordinates": {
     "x": 0,
     "y": 0,
     "w": 12,
     "h": 5
    },
    "deepnote_cell_type": "markdown",
    "deepnote_cell_height": 348
   }
  },
  {
   "cell_type": "markdown",
   "source": "<a style='text-decoration:none;line-height:16px;display:flex;color:#5B5B62;padding:10px;justify-content:end;' href='https://deepnote.com?utm_source=created-in-deepnote-cell&projectId=508708c0-8ca0-4b91-b41d-453bb1a669cd' target=\"_blank\">\n<img alt='Created in deepnote.com' style='display:inline;max-height:16px;margin:0px;margin-right:7.5px;' src='data:image/svg+xml;base64,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' > </img>\nCreated in <span style='font-weight:600;margin-left:4px;'>Deepnote</span></a>",
   "metadata": {
    "tags": [],
    "created_in_deepnote_cell": true,
    "deepnote_cell_type": "markdown"
   }
  }
 ],
 "nbformat": 4,
 "nbformat_minor": 2,
 "metadata": {
  "interpreter": {
   "hash": "f29c12a87c61eb6383010587911db04c5d869ed386a3efbb909b3787da0f0d05"
  },
  "kernelspec": {
   "display_name": "Python 3.10.2 ('data')",
   "language": "python",
   "name": "python3"
  },
  "language_info": {
   "codemirror_mode": {
    "name": "ipython",
    "version": 3
   },
   "file_extension": ".py",
   "mimetype": "text/x-python",
   "name": "python",
   "nbconvert_exporter": "python",
   "pygments_lexer": "ipython3",
   "version": "3.10.2"
  },
  "orig_nbformat": 4,
  "deepnote_notebook_id": "0a8d4d58-3bd9-4def-a9fa-44dd151ee8d1",
  "deepnote": {},
  "deepnote_app_layout": "article",
  "deepnote_execution_queue": []
 }
}